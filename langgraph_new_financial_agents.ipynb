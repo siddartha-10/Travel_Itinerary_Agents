{
 "cells": [
  {
   "cell_type": "code",
   "execution_count": 96,
   "metadata": {},
   "outputs": [],
   "source": [
    "from tavily import TavilyClient\n",
    "from dotenv import load_dotenv\n",
    "import os\n",
    "load_dotenv()\n",
    "\n",
    "tavily_client = TavilyClient(api_key=os.getenv(\"TAVILY_API_KEY\"))\n",
    "\n",
    "\n",
    "class SearchAgent:\n",
    "    def __init__(self):\n",
    "        pass\n",
    "\n",
    "    def search_tavily(self, query: str):\n",
    "        results = tavily_client.search(query=query, max_results = 5, include_images = True, include_domains = ['finance.yahoo.com'])\n",
    "        sources = results[\"results\"]\n",
    "        urls = [item['url'] for item in sources]\n",
    "        return sources, urls\n",
    "\n",
    "    def run(self, article: dict):\n",
    "        res = self.search_tavily(article[\"query\"])\n",
    "        return res"
   ]
  },
  {
   "cell_type": "code",
   "execution_count": 97,
   "metadata": {},
   "outputs": [],
   "source": [
    "search_agent = SearchAgent()"
   ]
  },
  {
   "cell_type": "code",
   "execution_count": 98,
   "metadata": {},
   "outputs": [],
   "source": [
    "article = {\n",
    "    \"query\" : \"what is the apple price stock\"\n",
    "}"
   ]
  },
  {
   "cell_type": "code",
   "execution_count": 99,
   "metadata": {},
   "outputs": [
    {
     "data": {
      "text/plain": [
       "'what is the apple price stock'"
      ]
     },
     "execution_count": 99,
     "metadata": {},
     "output_type": "execute_result"
    }
   ],
   "source": [
    "article['query']"
   ]
  },
  {
   "cell_type": "code",
   "execution_count": 100,
   "metadata": {},
   "outputs": [],
   "source": [
    "result  = search_agent.run(article=article)"
   ]
  },
  {
   "cell_type": "code",
   "execution_count": 101,
   "metadata": {},
   "outputs": [
    {
     "data": {
      "text/plain": [
       "([{'title': 'Apple Inc. (AAPL) Stock Price, News, Quote & History - Yahoo Finance',\n",
       "   'url': 'https://finance.yahoo.com/quote/AAPL/',\n",
       "   'content': '62.83. +0.22%. Find the latest Apple Inc. (AAPL) stock quote, history, news and other vital information to help you with your stock trading and investing.',\n",
       "   'score': 0.99,\n",
       "   'raw_content': None},\n",
       "  {'title': 'Apple Inc. (AAPL) Stock Historical Prices & Data - Yahoo Finance',\n",
       "   'url': 'https://finance.yahoo.com/quote/AAPL/history/',\n",
       "   'content': 'Discover historical prices for AAPL stock on Yahoo Finance. View daily, weekly or monthly format back to when Apple Inc. stock was issued.',\n",
       "   'score': 0.98299,\n",
       "   'raw_content': None},\n",
       "  {'title': 'Apple Inc. (AAPL) Analyst Ratings, Estimates & Forecasts - Yahoo Finance',\n",
       "   'url': 'https://finance.yahoo.com/quote/AAPL/analysis/',\n",
       "   'content': 'See Apple Inc. (AAPL) stock analyst estimates, including earnings and revenue, EPS, upgrades and downgrades.',\n",
       "   'score': 0.97804,\n",
       "   'raw_content': None},\n",
       "  {'title': 'Apple Inc. (AAPL) Stock Price, News, Quote & History - Yahoo Finance',\n",
       "   'url': 'https://ca.finance.yahoo.com/quote/AAPL/',\n",
       "   'content': 'Get the latest Apple Inc. (AAPL) stock price, news, quote and history on Yahoo Finance. Learn how to invest in AAPL with charts, analysis and expert opinions. Compare AAPL with other stocks and see how it performs in the market.',\n",
       "   'score': 0.97333,\n",
       "   'raw_content': None},\n",
       "  {'title': 'Apple Inc. (AAPL) stock price, news, quote & history - Yahoo Finance',\n",
       "   'url': 'https://uk.finance.yahoo.com/quote/AAPL/',\n",
       "   'content': 'As of 01:42PM EDT. Market open. Find the latest Apple Inc. (AAPL) stock quote, history, news and other vital information to help you with your stock trading and investing.',\n",
       "   'score': 0.97158,\n",
       "   'raw_content': None}],\n",
       " ['https://finance.yahoo.com/quote/AAPL/',\n",
       "  'https://finance.yahoo.com/quote/AAPL/history/',\n",
       "  'https://finance.yahoo.com/quote/AAPL/analysis/',\n",
       "  'https://ca.finance.yahoo.com/quote/AAPL/',\n",
       "  'https://uk.finance.yahoo.com/quote/AAPL/'])"
      ]
     },
     "execution_count": 101,
     "metadata": {},
     "output_type": "execute_result"
    }
   ],
   "source": [
    "result"
   ]
  },
  {
   "cell_type": "code",
   "execution_count": 78,
   "metadata": {},
   "outputs": [
    {
     "name": "stdout",
     "output_type": "stream",
     "text": [
      "https://finance.yahoo.com/quote/AAPL/\n",
      "https://finance.yahoo.com/quote/AAPL/history/\n",
      "https://finance.yahoo.com/quote/AAPL/analysis/\n",
      "https://ca.finance.yahoo.com/quote/AAPL/\n",
      "https://uk.finance.yahoo.com/quote/AAPL/\n"
     ]
    }
   ],
   "source": [
    "urls = [item['url'] for item in result]\n",
    "\n",
    "# Print the URLs\n",
    "for url in urls:\n",
    "    print(url)"
   ]
  },
  {
   "cell_type": "code",
   "execution_count": null,
   "metadata": {},
   "outputs": [],
   "source": []
  }
 ],
 "metadata": {
  "kernelspec": {
   "display_name": "base",
   "language": "python",
   "name": "python3"
  },
  "language_info": {
   "codemirror_mode": {
    "name": "ipython",
    "version": 3
   },
   "file_extension": ".py",
   "mimetype": "text/x-python",
   "name": "python",
   "nbconvert_exporter": "python",
   "pygments_lexer": "ipython3",
   "version": "3.12.0"
  }
 },
 "nbformat": 4,
 "nbformat_minor": 2
}

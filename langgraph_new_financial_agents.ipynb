{
 "cells": [
  {
   "cell_type": "code",
   "execution_count": 49,
   "metadata": {},
   "outputs": [],
   "source": [
    "from tavily import TavilyClient\n",
    "from dotenv import load_dotenv\n",
    "import os\n",
    "load_dotenv()\n",
    "\n",
    "tavily_client = TavilyClient(api_key=os.getenv(\"TAVILY_API_KEY\"))\n",
    "\n",
    "\n",
    "class SearchAgent:\n",
    "    def __init__(self):\n",
    "        pass\n",
    "\n",
    "    def search_tavily(self, query: str):\n",
    "        results = tavily_client.search(query=query, max_results = 5, include_raw_content = True, include_domains = [\"expedia.com\"])\n",
    "        sources = results[\"results\"]\n",
    "        urls = [item['url'] for item in sources]\n",
    "        return sources, urls\n",
    "\n",
    "    def run(self, article: dict):\n",
    "        res = self.search_tavily(article[\"query\"])\n",
    "        return res"
   ]
  },
  {
   "cell_type": "code",
   "execution_count": 50,
   "metadata": {},
   "outputs": [],
   "source": [
    "search_agent = SearchAgent()"
   ]
  },
  {
   "cell_type": "code",
   "execution_count": 51,
   "metadata": {},
   "outputs": [],
   "source": [
    "article = {\n",
    "    \"query\" : \"places to visit under 1000$ in the Japan from the US\"\n",
    "}"
   ]
  },
  {
   "cell_type": "code",
   "execution_count": 52,
   "metadata": {},
   "outputs": [
    {
     "data": {
      "text/plain": [
       "'places to visit under 1000$ in the Japan from the US'"
      ]
     },
     "execution_count": 52,
     "metadata": {},
     "output_type": "execute_result"
    }
   ],
   "source": [
    "article['query']"
   ]
  },
  {
   "cell_type": "code",
   "execution_count": 53,
   "metadata": {},
   "outputs": [],
   "source": [
    "result  = search_agent.run(article=article)"
   ]
  },
  {
   "cell_type": "code",
   "execution_count": 54,
   "metadata": {},
   "outputs": [
    {
     "data": {
      "text/plain": [
       "([{'title': 'Vacations Under $1000 - Expedia',\n",
       "   'url': 'https://www.expedia.com/lp/b/vacations/under-1000-dollars',\n",
       "   'content': 'Vacations Under $1000. Packages. Stays. Cars. Flights. Things to do. Cruises. Choose one or more items to build your trip: Stay added.',\n",
       "   'score': 0.98602,\n",
       "   'raw_content': \"Vacations Under $1000\\nTravelers\\nRoom 1\\nI only need accommodations for part of my trip\\nBetter together\\nSave up to $580 when you book a flight and hotel together*\\nFind the right fit\\nWith over 300,000 hotels worldwide, it's easy to create a perfect package\\nRest easy\\nPlan, book, and manage your trip all in one place\\nEveryone needs a vacation sometimes\\nThere are plenty of affordable hotels in Cancun and even its all-inclusive accommodation can keep you to your $1000 vacation budget. Book a budget hotel in Lake Tahoe or a vacation rental in Myrtle Beach and you can swim, go boating, and sunbathe for free in summer. Come winter, you can ski for less using the free shuttle buses from the lake resorts to the slopes. It’s also possible to do international travel with 1k. A stay in Portugal, one of Europe’s most affordable countries, is definitely an option. The capital, Lisbon, has low-cost hotels and restaurants and great public transport, making Portugal vacations under 1000 dollars a real possibility.\\nEnter your destination and travel dates then hit search to see our amazing flight and hotel packages that create vacations under $1000. Alternatively, you can build your own vacation under 1000 dollars by clicking on hotels, car rental, things to do, or flights that work best for you. With Expedia, you can quickly compare prices, properties, and amenities on a huge choice of affordable vacations then click to book your favorite—simple.\\nSpend time with your loved one with a romantic vacation package in the Dominican Republic where you can find vacations for two under $1000 thanks to a great choice of budget hotels close to the island’s dreamy lagoons and white beaches. Soak up the sun and chilled vibes together on a Florida Keys vacation for 2 under $1000 that’s close enough on cheap round-trip flights but feels a world away.\\nWe have fantastic deals on packages, flights, and hotels, so you can easily compare and choose your ideal vacation and keep the price under $1000. Simply enter your travel details and hit search to see our latest deals. Next use our filters to narrow your choice by price. You can also use the filters to choose preferred neighborhoods and amenities and read genuine guest ratings and reviews.\\nSave with our bundle deals!\\nCar, Stay, Flight... book everything you need for your perfect weekend getaway with Expedia and save!\\nVacation rental\\nApartments, Villas, Cabins... we have everything you need!\\nCar Rentals\\nHit the road with one of our car rental deals\\nAll Inclusive Vacations\\nBeach Vacations\\nKid Friendly Vacations\\nGolf Vacations\\nLuxury Vacations\\nRomantic Vacations\\nSki Vacations\\nAdventure Vacations\\nHoneymoon Vacations\\nMountain Vacations\\nFishing Vacations\\nAdults Only Vacations\\nWaterpark Vacations\\nScuba Diving Vacations\\nYoga Vacations\\nCheap Vacations\\nCompany\\nExplore\\nPolicies\\nHelp\"},\n",
       "  {'title': 'Japan Vacation Packages 2024 from $1,276 | Expedia',\n",
       "   'url': 'https://www.expedia.com/Japan.d89.Destination-Travel-Guides',\n",
       "   'content': 'Japan Travel Guide Japan Hotels Vacation Rentals in Japan Japan Flights Car Rentals in Japan. Japan Vacations & Trips from $1,276 Book a Hotel + Flight or Car together to unlock savings. Packages; Stays; Flights; Cars; Things to do; Choose one or more items to build your trip: Stay added. Flight added. Add a car. 1 room, 2 travelers.',\n",
       "   'score': 0.97695,\n",
       "   'raw_content': \"Japan Vacations & Trips from $1,415\\nBook a Hotel + Flight or Car together to unlock savings\\nTravelers\\nRoom 1\\nI only need accommodations for part of my trip\\nYour Japan Vacation\\nJapan vacation packages in 2024 deliver you to a land of discovery, a land of contrasts where serene gardens with wooden temples sit in bustling futuristic cities. Take the stress out of your travels and book a Japan vacation package with airfare included, so you can arrive at your hotel ready for adventures ahead. Ski trip packages in Japan take you to beautiful mountain resorts with fantastic beginner slopes and legendary deep powder snow for hard-core snow riders. For a first-time trip, little beats a Japan travel tour package taking in the greats: Tokyo, Osaka, and Kyoto. This is one of the world’s most exhilarating destinations for an unforgettable vacation.\\nYour Japan Vacation\\nLeave the planning up to us with a Japan vacation package. With everything arranged before you leave home, the only thing left to do is sit back, relax and enjoy this destination's wonders to the fullest. With so much to see on a trip to Japan, it can be hard to know where to begin. Kick off your journey in Tokyo at Tokyo Disneyland® and Tokyo DisneySea® — two popular family-friendly attractions here. Another city worth adding to your itinerary is Kyoto. Sweethearts seeking a romantic escape here shouldn't miss Gion Corner and Kyoto MINAMIZA Theatre. Expedia has flights, hotels, car rentals and more to help you put together your very own customized Japan vacation today.\\nTop destinations in Japan\\nThe Latest Japan Vacation Packages\\nWayfarer Hotel Kyoto Shijo\\nReviewed on Jun 4, 2024\\nhotel MONday Premium Ueno Okachimachi\\nReviewed on Jul 4, 2024\\nTHE THOUSAND KYOTO\\nReviewed on Jul 4, 2024\\nhotel MONday Asakusa\\nReviewed on Jul 3, 2024\\nMONday Apart Premium Asakusa\\nReviewed on Jul 1, 2024\\nJapan Hotel + Flights\\nJapanese accommodations are an experience in themselves. Browse through our 35,458 hotels (starting at $48 a night) and you’ll see what we mean. For the price-conscious traveler, consider bundling your flights and hotels together with our Japan Vacation Packages. You can also add a rental car and experiences to your package. With the savings you make you can throw a guided tour of the Imperial Palace into the mix.\\nYour Japan Vacation Itinerary\\nDay 1-3: Most travelers to Japan touch down at Tokyo International Airport (Haneda Airport). Settle into your hotel before checking out the best sights that this famous city has to offer, such as Shibuya Crossing, Shinjuku Gyoen National Garden and the Tokyo Skytree.\\nDay 4-5: Take the futuristic Shinkansen (bullet train) to Osaka. Japan’s third biggest city, this place lures travelers with its vibrant food scene and attractions such as Osaka Castle and Universal Studios Japan.\\nDay 6-7: Hop back on the train and head to Kyoto, Japan’s spiritual heart. Spend your days exploring its serene temples, shrines and gardens.\\nJapan Information\\nCherry blossom season is one of the most popular times to visit Japan. The country explodes into color each year between late April and early May.\\nYou could easily spend your entire trip in the country’s dizzying capital, so why not take a look at our Tokyo Vacation Packages?\\nTop Vacation Destinations in Japan\\nEmbrace local culture with Kyoto vacation packages\\nKyoto is one of the cultural capitals of Japan, where you'll be able to immerse yourself into a UNESCO World Heritage Site. While the city as a whole isn't a heritage site, its extensive collection of temples, shrines, palaces, and gardens is. When you visit them, you'll almost feel as if you're stepping back into the past, considering how well-preserved and still in use many of them are.\\nDiscover the mountain with a Fuji vacation\\nFuji is a massive mountain in Honshu that reaches up to 4132 yards. When you visit, you'll find quite a few fun things to do, including hikes and even some climbing available. Of course, you'll find plenty of surrounding towns and villages as well that make it easy to relax and take in the sheer beauty of this massive towering natural feature.\\nTaste wonders with Osaka vacation packages\\nThe city of Osaka has a lot to offer, but it's best known for its gastronomic offerings. The food available here comes in many different forms, with influences from all over the world. Whether you're looking for snacks or full-on meals, you'll never have to look far. Plus, the local chefs are always happy to talk about what goes into their takoyaki or okonomiyaki or whatever else they're preparing.\\nExplore the capital with Tokyo vacation packages\\nTokyo is an impressive city and capital with an immense array of things to see and do. The inner city is densely packed with some streets used more often by pedestrians than cars. When you're there, you'll find restaurants, museums, arcades, coffee shops, and just about anything else you can imagine. Still, local parks and temples can be impressive if you want something a bit more serene.\\nYour Japan Vacation\\nJapan vacation packages in 2024 deliver you to a land of discovery, a land of contrasts where serene gardens with wooden temples sit in bustling futuristic cities. Take the stress out of your travels and book a Japan vacation package with airfare included, so you can arrive at your hotel ready for adventures ahead. Ski trip packages in Japan take you to beautiful mountain resorts with fantastic beginner slopes and legendary deep powder snow for hard-core snow riders. For a first-time trip, little beats a Japan travel tour package taking in the greats: Tokyo, Osaka, and Kyoto. This is one of the world’s most exhilarating destinations for an unforgettable vacation.\\nJapan Essential Information\\nJapan Hotel Deals\\nReviewed on Jul 3, 2024\\nReviewed on Jul 4, 2024\\nReviewed on Jul 5, 2024\\nAll Inclusive Vacations\\nBeach Vacations\\nKid Friendly Vacations\\nGolf Vacations\\nLuxury Vacations\\nRomantic Vacations\\nSki Vacations\\nLGBTQ Friendly Vacations\\nAdventure Vacations\\nWhere to go when\\nHoneymoon Vacations\\nMountain Vacations\\nFishing Vacations\\nAdults Only Vacations\\nWaterpark Vacations\\nScuba Diving Vacations\\nYoga Vacations\\nCheap Vacations\\nSolo Vacations\\nFrequently asked questions\\nDiscover the most popular places to visit in Japan\\nRide roller coasters and watch theatrical shows as you witness the magic of Disney come to life at this family-friendly amusement park and resort.\\nWatch theatrical shows, meet lovable mascots and go on exhilarating rides at this extensive movie-focused theme park.\\nDiscover the secrets of the oceans in this magical theme park, where Disney’s sea-dwelling characters will take you on a journey to the world below the waves.\\nOther vacations you might like\\nCompany\\nExplore\\nPolicies\\nHelp\"},\n",
       "  {'title': 'Tokyo Vacation Packages 2024 from $1,204 | Expedia',\n",
       "   'url': 'https://www.expedia.com/Tokyo.d179900.Destination-Travel-Guides',\n",
       "   'content': 'Add a car. 1 room, 2 travelers. Bundle Tokyo flight + hotel & save up to 100% off your flight with Expedia. FREE cancellation on select hotels .',\n",
       "   'score': 0.96867,\n",
       "   'raw_content': \"Tokyo Vacations from $1,508\\nBook a Hotel + Flight or Car together to unlock savings\\nTravelers\\nRoom 1\\nI only need accommodations for part of my trip\\nYour Tokyo Vacation\\nWhen a fun city getaway is calling, answer it with a Tokyo vacation package. The neighborhood of Kanda, which is good for nightlife, festivals and dining, makes a terrific base for your adventures. Eager to venture out and explore? Tokyo Skytree, Tokyo Tower and Sensō-ji Temple are just three of the most popular places to visit during a trip to Tokyo. Stop daydreaming and start adventuring. Explore the multitude of options on Expedia today and finally put your Tokyo vacation plans into action!\\nThe Latest Tokyo Vacation Packages\\nMONday Apart Asakusabashi Akihabara(Former：MONday Apart Akihabara Southeast)\\nReviewed on Jul 7, 2024\\nMONday Apart Premium Akihabara Asakusabashi Sta.\\nReviewed on Jul 6, 2024\\nMONday Apart Premium Akihabara\\nReviewed on Jul 13, 2024\\nMONday Apart Premium Hamamatsucho\\nReviewed on Jul 10, 2024\\nMONday Apart Premium Ueno Okachimachi\\nReviewed on Jul 9, 2024\\nWhere to stay in Tokyo\\nShinjuku\\nMajor commercial hub with the bustling Shinjuku Station, Tokyo Metropolitan Government Building, and various attractions like Kabukichō, Golden Gai, and Shinjuku Gyoen. Shop at flagship stores and enjoy diverse dining options.\\nShibuya\\nMajor commercial and finance hub, Shibuya boasts bustling railway stations, trendy fashion scenes in Harajuku and Omotesandō, and vibrant nightlife. Don't miss the iconic Shibuya Crossing and Hachikō statue.\\nGinza\\nUpscale shopping and luxurious dining await in this elegant district, featuring flagship fashion stores, art galleries, and the renowned Sukiyabashi Jiro sushi restaurant. Catch a kabuki performance at Kabuki-za theater or stroll through pedestrian heaven on weekends.\\nUeno\\nTry the hanami tradition of admiring flowers as you walk past cherry blossoms and delve into the history of this area through its museums and ornate temples.\\nAsakusa\\nDiscover Sensō-ji, a renowned Buddhist temple, and savor traditional Japanese cuisine at local eateries. Explore Kappabashi-dori for kitchenware, cruise the Sumida River, and stay in a cozy ryokan near the Tokyo Metro Ginza Line subway.\\nTokyo Essential Information\\nReady to book your vacation to Tokyo?\\nChoose your dates\\nTokyo Hotel Deals\\nReviewed on Jul 12, 2024\\nReviewed on Jul 10, 2024\\nReviewed on Jul 13, 2024\\nAll Inclusive Vacations\\nBeach Vacations\\nKid Friendly Vacations\\nGolf Vacations\\nLuxury Vacations\\nRomantic Vacations\\nSki Vacations\\nLGBTQ Friendly Vacations\\nAdventure Vacations\\nWhere to go when\\nHoneymoon Vacations\\nMountain Vacations\\nFishing Vacations\\nAdults Only Vacations\\nWaterpark Vacations\\nScuba Diving Vacations\\nYoga Vacations\\nCheap Vacations\\nSolo Vacations\\nFrequently asked questions\\nDiscover the most popular places to visit in Tokyo\\nRide roller coasters and watch theatrical shows as you witness the magic of Disney come to life at this family-friendly amusement park and resort.\\nDiscover the secrets of the oceans in this magical theme park, where Disney’s sea-dwelling characters will take you on a journey to the world below the waves.\\nCatch an event at Tokyo Dome during your trip to Tokyo. Amble within picturesque gardens or visit the shops in this vibrant area.\\nWhat to do in Tokyo\\nOther vacations you might like\\nCompany\\nExplore\\nPolicies\\nHelp\"}],\n",
       " ['https://www.expedia.com/lp/b/vacations/under-1000-dollars',\n",
       "  'https://www.expedia.com/Japan.d89.Destination-Travel-Guides',\n",
       "  'https://www.expedia.com/Tokyo.d179900.Destination-Travel-Guides'])"
      ]
     },
     "execution_count": 54,
     "metadata": {},
     "output_type": "execute_result"
    }
   ],
   "source": [
    "result"
   ]
  },
  {
   "cell_type": "code",
   "execution_count": 14,
   "metadata": {},
   "outputs": [
    {
     "ename": "TypeError",
     "evalue": "list indices must be integers or slices, not str",
     "output_type": "error",
     "traceback": [
      "\u001b[0;31m---------------------------------------------------------------------------\u001b[0m",
      "\u001b[0;31mTypeError\u001b[0m                                 Traceback (most recent call last)",
      "Cell \u001b[0;32mIn[14], line 1\u001b[0m\n\u001b[0;32m----> 1\u001b[0m urls \u001b[38;5;241m=\u001b[39m [item[\u001b[38;5;124m'\u001b[39m\u001b[38;5;124murl\u001b[39m\u001b[38;5;124m'\u001b[39m] \u001b[38;5;28;01mfor\u001b[39;00m item \u001b[38;5;129;01min\u001b[39;00m result]\n\u001b[1;32m      3\u001b[0m \u001b[38;5;66;03m# Print the URLs\u001b[39;00m\n\u001b[1;32m      4\u001b[0m \u001b[38;5;28;01mfor\u001b[39;00m url \u001b[38;5;129;01min\u001b[39;00m urls:\n",
      "\u001b[0;31mTypeError\u001b[0m: list indices must be integers or slices, not str"
     ]
    }
   ],
   "source": [
    "urls = [item['url'] for item in result]\n",
    "\n",
    "# Print the URLs\n",
    "for url in urls:\n",
    "    print(url)"
   ]
  },
  {
   "cell_type": "code",
   "execution_count": null,
   "metadata": {},
   "outputs": [],
   "source": []
  }
 ],
 "metadata": {
  "kernelspec": {
   "display_name": "base",
   "language": "python",
   "name": "python3"
  },
  "language_info": {
   "codemirror_mode": {
    "name": "ipython",
    "version": 3
   },
   "file_extension": ".py",
   "mimetype": "text/x-python",
   "name": "python",
   "nbconvert_exporter": "python",
   "pygments_lexer": "ipython3",
   "version": "3.12.0"
  }
 },
 "nbformat": 4,
 "nbformat_minor": 2
}

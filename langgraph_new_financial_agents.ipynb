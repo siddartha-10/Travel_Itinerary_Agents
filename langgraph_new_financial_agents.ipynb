{
 "cells": [
  {
   "cell_type": "code",
   "execution_count": 8,
   "metadata": {},
   "outputs": [],
   "source": [
    "from tavily import TavilyClient\n",
    "from dotenv import load_dotenv\n",
    "import os\n",
    "load_dotenv()\n",
    "\n",
    "tavily_client = TavilyClient(api_key=os.getenv(\"TAVILY_API_KEY\"))\n",
    "\n",
    "\n",
    "class SearchAgent:\n",
    "    def __init__(self):\n",
    "        pass\n",
    "\n",
    "    def search_tavily(self, query: str):\n",
    "        results = tavily_client.search(query=query, max_results = 5)\n",
    "        sources = results[\"results\"]\n",
    "        urls = [item['url'] for item in sources]\n",
    "        return sources, urls\n",
    "\n",
    "    def run(self, article: dict):\n",
    "        res = self.search_tavily(article[\"query\"])\n",
    "        return res"
   ]
  },
  {
   "cell_type": "code",
   "execution_count": 9,
   "metadata": {},
   "outputs": [],
   "source": [
    "search_agent = SearchAgent()"
   ]
  },
  {
   "cell_type": "code",
   "execution_count": 10,
   "metadata": {},
   "outputs": [],
   "source": [
    "article = {\n",
    "    \"query\" : \"What are the best places to vist on 1000$ budget and i want to see lots of greenery and i love beaches\"\n",
    "}"
   ]
  },
  {
   "cell_type": "code",
   "execution_count": 11,
   "metadata": {},
   "outputs": [
    {
     "data": {
      "text/plain": [
       "'What are the best places to vist on 1000$ budget and i want to see lots of greenery and i love beaches'"
      ]
     },
     "execution_count": 11,
     "metadata": {},
     "output_type": "execute_result"
    }
   ],
   "source": [
    "article['query']"
   ]
  },
  {
   "cell_type": "code",
   "execution_count": 12,
   "metadata": {},
   "outputs": [],
   "source": [
    "result  = search_agent.run(article=article)"
   ]
  },
  {
   "cell_type": "code",
   "execution_count": 16,
   "metadata": {},
   "outputs": [
    {
     "data": {
      "text/plain": [
       "([{'title': '26 Cheap Beach Vacations for Travelers on a Budget - U.S. News Travel',\n",
       "   'url': 'https://travel.usnews.com/gallery/cheap-beach-vacations',\n",
       "   'content': \"Airbnb's rental villas average around $125 per night in the winter, though couples studios go for much less. Rent a car to explore Curaçao's more remote cove beaches, snorkel the reefs or hire a ...\",\n",
       "   'score': 0.98548,\n",
       "   'raw_content': None},\n",
       "  {'title': 'The 31 Cheapest Places to Travel in 2024 - Be My Travel Muse',\n",
       "   'url': 'https://www.bemytravelmuse.com/the-cheapest-destinations-to-travel-to/',\n",
       "   'content': 'mike says\\n09/09/2019 at 11:01 pm\\nI agree with your comments Kristen, its also easy to ask and or learn the local word to say dont put it in as a lot of stands will add a little MSG for “extra flavour”\\nMaria says\\n01/17/2023 at 3:56 am\\n‘Hoom, Hoom, Ajinomoto’, is what to say if you don’t want MSG\\nMarissa says\\n01/20/2020 at 12:45 pm\\nAgreed. at 9:17 am\\nAs an American I can’t go there without taking a tour so to me it’s not that cheap, unfortunately 🙁\\nmark doty says\\n07/01/2020 at 6:18 pm\\nwho in their right mind would go to Iran?\\nPJ says\\n09/23/2020 at 1:33 pm\\nI lived there in the 70s and would love to go back to hike the mountains and ski again. Some hostels provide breakfastAccommodation: $5-$10 per night in a hostelTransportation: $6-$10 for a motorbike for the day (prices may vary depending on the bike condition and your haggling skills) or a rental car split between 4 people SIM card with data: $7 for 1.5GB with 30-day validity\\n– Read More –\\nThailand bucket list: 50 best things to do\\nA complete guide to Thailand\\n5. Brad Carss says\\n07/30/2019 at 6:57 pm\\nI love Namibia and persisted in my efforts to visit the Himba People in Opuwo by catching a taxi from my hostel in Windhoek to the pickup point for the van taking locals to the north of the country. Entrance fees to historical sites and museums can be quite expensive ($18 to enter the Prague Castle), but you don’t always have to actually enter – the hikes up are awesome, and you can always admire the architecture from outside, and pick the most intriguing ones to go in.\\n',\n",
       "   'score': 0.98349,\n",
       "   'raw_content': None},\n",
       "  {'title': 'Top 15+ Cheap Beach Vacations - Trips To Discover',\n",
       "   'url': 'https://www.tripstodiscover.com/cheap-beach-vacations-to-take-on-a-budget/',\n",
       "   'content': 'Top 25 All-Inclusive Resorts Worldwide, According to Guests in 2023\\nTop 10 Clothing-Optional Resorts in the U.S.\\n14 Best Family Resorts in New England\\n14 Best Hotels in Rhodes Island, Greece\\n12 Best Luxury Hotels in Cartagena, Colombia\\nMore in Travel Inspiration\\n12 Coolest Boutique Hotels in Boston, MA\\nTop 10 Festivals in Italy\\nTop 14 Hotels for a Warm-Weather Winter Getaway in the U.S.\\n13 Best Beaches in the United Kingdom\\nPeak Times to See Fall Foliage Across the US Balcony Upgrade\\nRIU All-Inclusive Resort Savings - Book by 1/15\\nAir & 8-Day Ireland Tour w/ Daily Breakfast\\n7-Day Caribbean Balcony Cruise on Celebrity w/ Bonus\\nNorthern Europe Cruises Up to 40% Off + Upgrades\\nSave $400 | Air & 9-Day Japan Tour - Book by 1/17\\n7-Day Independent Dublin & Belfast Stay w/ Sightseeing\\nUp to 40% Off Alaksa Cruises + Balcony Upgrade\\nUp to 40% Off Alaska Cruises w/ Balcony Upgrade\\nRIU Palace Paradise Island, Bahamas - Adults Only\\nRoundtrip Flights to New Zealand on Fiji Airways\\nAmsterdam to Vienna 15-Day River Cruise | 30% Off\\nPopular Stories\\nTop 14 Romantic Getaways in Oregon\\nTop 11 Boutique Hotels in Paris\\n To Discover\\nPowered by:\\n© 2024 \\xa0 Trips To Discover\\nWe Recommend\\nTop Airbnbs in the area\\nIf you’re looking for a unique place to stay, check out the top Airbnb rentals in the area.\\n While in the Ocho Rios area, you can spend lots of time on the sandy beaches and go hiking and swimming by waterfalls.\\nVirginia Beach, Virginia\\nWhy Come Here: A beachfront boardwalk and popular surf spots.\\n One of the best beach towns in Texas, South Padre Island is accessible by road and very popular as a budget-friendly beach destination in the U.S. Families and adventurous couples can keep busy here with water parks, sailing, kiteboarding and even dolphin watching.\\n',\n",
       "   'score': 0.97739,\n",
       "   'raw_content': None},\n",
       "  {'title': 'Best Cheap Vacations in the U.S. for 2023-2024 | U.S. News Travel',\n",
       "   'url': 'https://travel.usnews.com/rankings/best-affordable-usa-destinations/',\n",
       "   'content': 'Glacier National Park. #3 in Best Cheap Vacations in the U.S. for 2023-2024. A favorite destination for hikers, Glacier National Park is an incredibly scenic vacation spot that borders Canada from ...',\n",
       "   'score': 0.97304,\n",
       "   'raw_content': None},\n",
       "  {'title': '24 Amazingly Cheap Places to Travel in 2024 (Costs + Why) - Indie Traveller',\n",
       "   'url': 'https://www.indietraveller.co/top-cheap-places-to-travel/',\n",
       "   'content': 'Quick answers — cheap countries to travel\\nCheap countries in and near Europe:\\nBaltic States, Romania, Georgia,\\xa0Albania, Bosnia, Turkey, Armenia\\nCheap countries in Asia:\\nVietnam, Nepal, Thailand, Cambodia, Laos, Indonesia, Philippines\\nCheap countries in the Americas:\\nMexico, Colombia, Guatemala, Argentina, Cuba, Bolivia\\nCheap countries in Africa:\\nMorocco, Cape Verde\\nCheap & easy beach holidays:\\nMexico, Thailand, Indonesia, Turkey\\nSome classic backpacker bargains:\\nThailand, Mexico, Vietnam\\nUnderrated cultural/adventure destinations:\\nColombia, Romania, Laos, Bolivia, Georgia, Albania, Armenia\\nMiss these at your own peril!\\n Albanian cuisine is fantastic and a good lunch or dinner might cost you about $2 to $4.\\nBackpacker Budget: $25 a day\\nMid-range Budget: $50 a day\\nHighlights: Hiking the Accursed Mountains, cheap beach stays, the historic town of Gjirokaster\\nWhen to go: peak season Jul-Aug — shoulder season Apr-Jun, Sep-Oct\\n5. Mexico\\nMexico is typically best known for its beach resorts like Cancun, Cabo, or Tulum. I stayed in the local casas particulares, so maybe the reputation comes from the big resort hotels?\\nGreat article, you just lengthened my bucket list\\nThe description and the detailed information about the place and expensive was so subtle that it gave me feeling of traveling all those places listed above already. Due to the chaos and patience needed India may not be the first overseas country to tackle, but many regions have a reputation for being particularly easy to travel, including the northern desert region of Rajasthan and the laidback tropical state of Kerala in the south.\\n Add to this the buzzing cities of Medellín and Bogota, and the warmth of Colombians and their vibrant culture, and you’ve got one of the best budget-friendly travel destinations in the Americas.\\n',\n",
       "   'score': 0.967,\n",
       "   'raw_content': None}],\n",
       " ['https://travel.usnews.com/gallery/cheap-beach-vacations',\n",
       "  'https://www.bemytravelmuse.com/the-cheapest-destinations-to-travel-to/',\n",
       "  'https://www.tripstodiscover.com/cheap-beach-vacations-to-take-on-a-budget/',\n",
       "  'https://travel.usnews.com/rankings/best-affordable-usa-destinations/',\n",
       "  'https://www.indietraveller.co/top-cheap-places-to-travel/'])"
      ]
     },
     "execution_count": 16,
     "metadata": {},
     "output_type": "execute_result"
    }
   ],
   "source": [
    "result"
   ]
  },
  {
   "cell_type": "code",
   "execution_count": 14,
   "metadata": {},
   "outputs": [
    {
     "ename": "TypeError",
     "evalue": "list indices must be integers or slices, not str",
     "output_type": "error",
     "traceback": [
      "\u001b[0;31m---------------------------------------------------------------------------\u001b[0m",
      "\u001b[0;31mTypeError\u001b[0m                                 Traceback (most recent call last)",
      "Cell \u001b[0;32mIn[14], line 1\u001b[0m\n\u001b[0;32m----> 1\u001b[0m urls \u001b[38;5;241m=\u001b[39m [item[\u001b[38;5;124m'\u001b[39m\u001b[38;5;124murl\u001b[39m\u001b[38;5;124m'\u001b[39m] \u001b[38;5;28;01mfor\u001b[39;00m item \u001b[38;5;129;01min\u001b[39;00m result]\n\u001b[1;32m      3\u001b[0m \u001b[38;5;66;03m# Print the URLs\u001b[39;00m\n\u001b[1;32m      4\u001b[0m \u001b[38;5;28;01mfor\u001b[39;00m url \u001b[38;5;129;01min\u001b[39;00m urls:\n",
      "\u001b[0;31mTypeError\u001b[0m: list indices must be integers or slices, not str"
     ]
    }
   ],
   "source": [
    "urls = [item['url'] for item in result]\n",
    "\n",
    "# Print the URLs\n",
    "for url in urls:\n",
    "    print(url)"
   ]
  },
  {
   "cell_type": "code",
   "execution_count": null,
   "metadata": {},
   "outputs": [],
   "source": []
  }
 ],
 "metadata": {
  "kernelspec": {
   "display_name": "base",
   "language": "python",
   "name": "python3"
  },
  "language_info": {
   "codemirror_mode": {
    "name": "ipython",
    "version": 3
   },
   "file_extension": ".py",
   "mimetype": "text/x-python",
   "name": "python",
   "nbconvert_exporter": "python",
   "pygments_lexer": "ipython3",
   "version": "3.12.0"
  }
 },
 "nbformat": 4,
 "nbformat_minor": 2
}

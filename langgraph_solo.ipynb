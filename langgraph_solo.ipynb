{
 "cells": [
  {
   "cell_type": "code",
   "execution_count": 1,
   "metadata": {},
   "outputs": [
    {
     "data": {
      "text/plain": [
       "True"
      ]
     },
     "execution_count": 1,
     "metadata": {},
     "output_type": "execute_result"
    }
   ],
   "source": [
    "from dotenv import load_dotenv\n",
    "import os\n",
    "load_dotenv()"
   ]
  },
  {
   "cell_type": "code",
   "execution_count": 2,
   "metadata": {},
   "outputs": [],
   "source": [
    "from langgraph.graph import StateGraph, END, START\n",
    "from typing import Annotated, TypedDict, List\n",
    "from langchain_openai import AzureChatOpenAI\n",
    "from langchain_core.messages import HumanMessage, SystemMessage, ToolMessage, AnyMessage"
   ]
  },
  {
   "cell_type": "code",
   "execution_count": 3,
   "metadata": {},
   "outputs": [],
   "source": [
    "model = AzureChatOpenAI(openai_api_version=os.environ.get(\"AZURE_OPENAI_VERSION\", \"2023-07-01-preview\"),\n",
    "    azure_deployment=os.environ.get(\"AZURE_OPENAI_DEPLOYMENT\", \"gpt4chat\"),\n",
    "    azure_endpoint=os.environ.get(\"AZURE_OPENAI_ENDPOINT\", \"https://gpt-4-trails.openai.azure.com/\"),\n",
    "    api_key=os.environ.get(\"AZURE_OPENAI_KEY\"))"
   ]
  },
  {
   "cell_type": "code",
   "execution_count": 4,
   "metadata": {},
   "outputs": [],
   "source": [
    "from tavily import TavilyClient\n",
    "tavily = TavilyClient(api_key=os.environ.get(\"TAVILY_API_KEY\"))"
   ]
  },
  {
   "cell_type": "code",
   "execution_count": 5,
   "metadata": {},
   "outputs": [],
   "source": [
    "from langchain_core.pydantic_v1 import BaseModel\n",
    "\n",
    "class Queries(BaseModel):\n",
    "    queries: List[str]"
   ]
  },
  {
   "cell_type": "markdown",
   "metadata": {},
   "source": [
    "#### Agents\n",
    "\n",
    "1) city_selection_agent :- As a City Selection Expert, your task is to analyze various travel data and choose the best city for the user, considering the current weather, season, and cost factors. Your expertise in evaluating these criteria will ensure that the selected destination offers the most favorable conditions and value for travelers.\n",
    "2) local_expert :- As a Local Expert in this city, your task is to offer the best insights about the selected city. Use your extensive knowledge about its attractions and customs to provide valuable and detailed information that will enhance the travel experience for visitors.\n",
    "3) travel_concierge :- As an Amazing Travel Concierge, your task is to leverage your decades of experience in travel planning to create outstanding travel itineraries. These should include detailed budget plans and packing suggestions tailored to the chosen city, ensuring a seamless and enjoyable travel experience for the user.\n",
    "\n",
    "\n",
    "\n",
    "\t1.\tCity Selection Expert: Imagine you’re a travel enthusiast with a knack for picking the perfect destinations. Your mission is to sift through travel data and pinpoint the best city for our users, considering the current weather, season, and budget. Your skill in evaluating these factors will help ensure that travelers enjoy the best conditions and value during their trips.\n",
    "\t2.\tLocal Expert: Picture yourself as a local guide with a deep love for your city. Your goal is to share the most insightful and interesting details about this place. Use your extensive knowledge about its attractions and customs to provide valuable information that will enrich the travel experience for visitors.\n",
    "\t3.\tTravel Concierge: Think of yourself as a seasoned travel planner with years of experience crafting perfect trips. Your task is to create amazing travel itineraries, complete with detailed budget plans and packing tips tailored to the chosen city. Your expertise will ensure a smooth and enjoyable journey for our users."
   ]
  },
  {
   "cell_type": "code",
   "execution_count": 6,
   "metadata": {},
   "outputs": [],
   "source": [
    "class AgentState(TypedDict):\n",
    "    Where_from: str\n",
    "    Where_to: str\n",
    "    Local_expert: str\n",
    "    Hotel_details: str\n",
    "    Hotel_expert: str\n",
    "    Departure_date: str\n",
    "    Return_date: str\n",
    "    Travel_preference: str # This maybe by car, flight etc\n",
    "    Travel_details: str"
   ]
  },
  {
   "cell_type": "code",
   "execution_count": 7,
   "metadata": {},
   "outputs": [],
   "source": [
    "LOCAL_EXPERT_QUERIES_PROMPT = \"\"\" You are an expert local guide of . \\\n",
    "You are living there for almost 15years \\\n",
    "Your goal is to generate two queries such that it will retrieve overview of what \\\n",
    "the city has to offer, including hidden gems, cultural hotspots, must-visit landmarks,\\\n",
    "\"\"\""
   ]
  },
  {
   "cell_type": "code",
   "execution_count": 8,
   "metadata": {},
   "outputs": [],
   "source": [
    "LOCAL_EXPERT_PROMPT = \"\"\" Your goal is to share the most insightful and interesting details about this place. \\\n",
    "Use the context given below of the {city} to find about its attractions and \\\n",
    "customs to provide valuable information that will enrich the travel experience for visitors.\\\n",
    "\n",
    "\n",
    "\n",
    "example output:- \n",
    "1) Time's Square :- This is a great place to walk around at the night times. etc\n",
    "......\n",
    "\"\"\""
   ]
  },
  {
   "cell_type": "code",
   "execution_count": 9,
   "metadata": {},
   "outputs": [],
   "source": [
    "def Local_expert_agent(state: AgentState):\n",
    "    queries = model.with_structured_output(Queries).invoke([\n",
    "        SystemMessage(content=LOCAL_EXPERT_QUERIES_PROMPT),\n",
    "        HumanMessage(content = state['Where_to']),\n",
    "    ])\n",
    "    context = \"\"\n",
    "    for q in queries.queries:\n",
    "        print(q)\n",
    "        response = tavily.search(query=q, max_results = 5, include_raw_content = True, include_domains = [\"expedia.com\"])\n",
    "        for result in response['results']:\n",
    "            context = \"\\n\\n \".join(result['raw_content'])\n",
    "    best_version = model.invoke([\n",
    "        SystemMessage(content=LOCAL_EXPERT_PROMPT.format(city = state['Where_to'])),\n",
    "        HumanMessage(content = context),\n",
    "    ]).content\n",
    "    return {\"Local_expert\": best_version}"
   ]
  },
  {
   "cell_type": "code",
   "execution_count": 10,
   "metadata": {},
   "outputs": [],
   "source": [
    "HOTEL_EXPERT_QUERIES_PROMPT = \"\"\" You are great at finding hotels at a particular city that user would like to visit \\\n",
    "Based on the user Hotel Preferences. \\\n",
    "Generate a query to find the best hotel that fits the user preferences. \\\n",
    "\"\"\""
   ]
  },
  {
   "cell_type": "code",
   "execution_count": 11,
   "metadata": {},
   "outputs": [],
   "source": [
    "HOTEL_EXPERT_PROMPT = \"\"\" Your goal is to share the best hotels that fit the user preference. \\\n",
    "Use the context given below of the hotels and choose few hotels that better fit the user preference \\\n",
    "Also also give a single sentence reasoning, why is that hotel better. \\\n",
    "\n",
    "Here is the user preference, {hotels}\n",
    "\n",
    "example output:- \n",
    "1) Marriot :- This is hotel is a 5 start hotel which is luxury and it is near to many of the famous attractions. \\\n",
    "Per night cost would be:- 200$ per room.\n",
    "Important amenities:-\n",
    "1) pool\n",
    "2) spa .....etc\n",
    "......\n",
    "\"\"\""
   ]
  },
  {
   "cell_type": "code",
   "execution_count": 12,
   "metadata": {},
   "outputs": [],
   "source": [
    "def Hotel_expert_agent(state: AgentState):\n",
    "    queries = model.with_structured_output(Queries).invoke([\n",
    "        SystemMessage(content=HOTEL_EXPERT_QUERIES_PROMPT),\n",
    "        HumanMessage(content = \"\\n\\n\" + \"Here is my preferences to finding a hotel \"+ state['Hotel_details']),\n",
    "    ])\n",
    "    context = \"\"\n",
    "    for q in queries.queries:\n",
    "        print(q)\n",
    "        response = tavily.search(query=q, max_results = 5, include_raw_content = True, include_domains = [\"expedia.com\", \"booking.com\"])\n",
    "        for result in response['results']:\n",
    "            context = \"\\n\\n \".join(result['raw_content'])\n",
    "    best_version = model.invoke([\n",
    "        SystemMessage(content=HOTEL_EXPERT_PROMPT.format(hotels = state['Hotel_details'])),\n",
    "        HumanMessage(content = context),\n",
    "    ]).content\n",
    "    return {\"Hotel_expert\": best_version}"
   ]
  },
  {
   "cell_type": "code",
   "execution_count": 13,
   "metadata": {},
   "outputs": [],
   "source": [
    "TRAVEL_EXPERT_PROMPT_QUERY = \"\"\" You are great at finding the best and cheapest travel \\\n",
    "Accommodations, based on the travel date {Departure_date} and return date {Return_date} \\\n",
    "from {Where_from} to {Where_to}. \n",
    "\n",
    "Generate some queries based on the trip details and also you goals is to find the best and cheapest prices.\n",
    "\"\"\""
   ]
  },
  {
   "cell_type": "code",
   "execution_count": 14,
   "metadata": {},
   "outputs": [],
   "source": [
    "TRAVEL_EXPERT_PROMPT = \"\"\" \n",
    "Organise these flight details provided below\n",
    "\n",
    "{flight_details}\n",
    "\n",
    "A list of the top 3-5 flight options.\n",
    "For each flight, provide:\n",
    "Departure and arrival times\n",
    "Duration of the flight\n",
    "Number of stopovers (if any)\n",
    "Airline\n",
    "Any additional relevant details (baggage included, flight change policies, etc.)\n",
    "\"\"\""
   ]
  },
  {
   "cell_type": "code",
   "execution_count": 15,
   "metadata": {},
   "outputs": [],
   "source": [
    "def Travel_expert_agent(state: AgentState):\n",
    "    queries = model.with_structured_output(Queries).invoke([\n",
    "        SystemMessage(content=TRAVEL_EXPERT_PROMPT_QUERY.fromat(Departure_date = state[\"Departure_date\"], \n",
    "        Return_date =  state['Return_date'], Where_from = state[\"Where_from\"], Where_to = state['Where_to'])),\n",
    "        HumanMessage(content = \"\\n\\n\" + \"Here is my preferences to Travel to the destination \"+ state[\"Travel_preference\"]),\n",
    "    ])\n",
    "    context = \"\"\n",
    "    for q in queries.queries:\n",
    "        print(q)\n",
    "        response = tavily.search(query=q, max_results = 5, include_raw_content = True)\n",
    "        for result in response['results']:\n",
    "            context = \"\\n\\n \".join(result['raw_content'])\n",
    "    best_version = model.invoke([\n",
    "        SystemMessage(content=TRAVEL_EXPERT_PROMPT.format(hotels = state['Hotel_details'])),\n",
    "        HumanMessage(content = context),\n",
    "    ]).content\n",
    "    return {\"Travel_details\": best_version}"
   ]
  },
  {
   "cell_type": "code",
   "execution_count": 16,
   "metadata": {},
   "outputs": [],
   "source": [
    "builder = StateGraph(AgentState)"
   ]
  },
  {
   "cell_type": "code",
   "execution_count": 17,
   "metadata": {},
   "outputs": [],
   "source": [
    "builder.add_node(\"local_guide\", Local_expert_agent)\n",
    "builder.add_node(\"hotel_expert\", Hotel_expert_agent)\n",
    "builder.add_node(\"travel_expert\", Travel_expert_agent)"
   ]
  },
  {
   "cell_type": "code",
   "execution_count": 18,
   "metadata": {},
   "outputs": [],
   "source": [
    "builder.set_entry_point(\"local_guide\")"
   ]
  },
  {
   "cell_type": "code",
   "execution_count": 19,
   "metadata": {},
   "outputs": [],
   "source": [
    "builder.add_edge(\"local_guide\", \"hotel_expert\")\n",
    "builder.add_edge(\"hotel_expert\", \"travel_expert\")\n",
    "builder.add_edge(\"travel_expert\", END)"
   ]
  },
  {
   "cell_type": "code",
   "execution_count": 20,
   "metadata": {},
   "outputs": [],
   "source": [
    "graph = builder.compile()"
   ]
  },
  {
   "cell_type": "code",
   "execution_count": 21,
   "metadata": {},
   "outputs": [
    {
     "name": "stdout",
     "output_type": "stream",
     "text": [
      "What are the must-visit landmarks and hidden gems in Miami?\n",
      "What cultural hotspots does Miami offer?\n"
     ]
    }
   ],
   "source": [
    "\n",
    "for s in graph.stream({\n",
    "    \"Where_from\": \"Atlanta\",\n",
    "    \"Where_to\" : \"Miami\",\n",
    "    \"Hotel_details\": \"I would prefer staying in good hotels, but not too fancy and the area around the hotels must be safe\",\n",
    "    \"Departure_date\": \"july 16th 2024\",\n",
    "    \"Return_date\": \"july 20th 2024\",\n",
    "    \"Travel_preference\": \"Any but should be the cheapest.\"\n",
    "}):\n",
    "    print(s)"
   ]
  },
  {
   "cell_type": "code",
   "execution_count": null,
   "metadata": {},
   "outputs": [
    {
     "name": "stdout",
     "output_type": "stream",
     "text": [
      "1) Hampton Inn & Suites: This hotel is a comfortable and budget-friendly option located in a safe neighborhood. The per night cost would be around $120 per room.\n",
      "Important amenities: \n",
      "1) Free Wi-Fi \n",
      "2) Gym\n",
      "3) Laundry service\n",
      "\n",
      "2) Courtyard by Marriott: This is a 3-star hotel that offers a balance between luxury and affordability, and it's located in a secure area. The per night cost would be around $150 per room.\n",
      "Important amenities: \n",
      "1) Fitness center\n",
      "2) Restaurant \n",
      "3) Business center\n",
      "\n",
      "3) Hilton Garden Inn: This hotel provides a comfortable stay without being overly luxurious, and is situated in a safe locality. The per night cost would be around $130 per room.\n",
      "Important amenities: \n",
      "1) Indoor pool\n",
      "2) Free parking\n",
      "3) On-site restaurant.\n"
     ]
    }
   ],
   "source": [
    "print(s['hotel_expert']['Hotel_expert'])"
   ]
  },
  {
   "cell_type": "code",
   "execution_count": null,
   "metadata": {},
   "outputs": [],
   "source": []
  }
 ],
 "metadata": {
  "kernelspec": {
   "display_name": "base",
   "language": "python",
   "name": "python3"
  },
  "language_info": {
   "codemirror_mode": {
    "name": "ipython",
    "version": 3
   },
   "file_extension": ".py",
   "mimetype": "text/x-python",
   "name": "python",
   "nbconvert_exporter": "python",
   "pygments_lexer": "ipython3",
   "version": "3.12.0"
  }
 },
 "nbformat": 4,
 "nbformat_minor": 2
}

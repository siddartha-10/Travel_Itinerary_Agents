{
 "cells": [
  {
   "cell_type": "code",
   "execution_count": 1,
   "metadata": {},
   "outputs": [
    {
     "data": {
      "text/plain": [
       "True"
      ]
     },
     "execution_count": 1,
     "metadata": {},
     "output_type": "execute_result"
    }
   ],
   "source": [
    "from dotenv import load_dotenv\n",
    "import os\n",
    "load_dotenv()"
   ]
  },
  {
   "cell_type": "code",
   "execution_count": 2,
   "metadata": {},
   "outputs": [],
   "source": [
    "from langgraph.graph import StateGraph, END, START\n",
    "from typing import Annotated, TypedDict, List\n",
    "from langchain_openai import AzureChatOpenAI, ChatOpenAI\n",
    "from langchain_core.messages import HumanMessage, SystemMessage, ToolMessage, AnyMessage\n",
    "import requests\n",
    "import json"
   ]
  },
  {
   "cell_type": "code",
   "execution_count": 3,
   "metadata": {},
   "outputs": [],
   "source": [
    "# model = ChatOpenAI(temperature=0.3, model='gpt-4-turbo')\n",
    "model = AzureChatOpenAI(openai_api_version=os.environ.get(\"AZURE_OPENAI_VERSION\", \"2023-07-01-preview\"),\n",
    "    azure_deployment=os.environ.get(\"AZURE_OPENAI_DEPLOYMENT\", \"gpt4chat\"),\n",
    "    azure_endpoint=os.environ.get(\"AZURE_OPENAI_ENDPOINT\", \"https://gpt-4-trails.openai.azure.com/\"),\n",
    "    api_key=os.environ.get(\"AZURE_OPENAI_KEY\"),\n",
    "    temperature=0.3)"
   ]
  },
  {
   "cell_type": "code",
   "execution_count": 4,
   "metadata": {},
   "outputs": [],
   "source": [
    "from tavily import TavilyClient\n",
    "tavily = TavilyClient(api_key=os.environ.get(\"TAVILY_API_KEY\"))"
   ]
  },
  {
   "cell_type": "code",
   "execution_count": 5,
   "metadata": {},
   "outputs": [],
   "source": [
    "from langchain_core.pydantic_v1 import BaseModel\n",
    "\n",
    "class Queries(BaseModel):\n",
    "    queries: List[str]"
   ]
  },
  {
   "cell_type": "code",
   "execution_count": 6,
   "metadata": {},
   "outputs": [],
   "source": [
    "class AgentState(TypedDict):\n",
    "    Where_from: str\n",
    "    Where_to: str\n",
    "    Local_expert: str\n",
    "    Hotel_details: str\n",
    "    Hotel_expert: str\n",
    "    Departure_date: str\n",
    "    Return_date: str\n",
    "    Travel_preference: str # This maybe by car, flight etc\n",
    "    Travel_expert: str\n",
    "    FINAL_DRAFT: str"
   ]
  },
  {
   "cell_type": "code",
   "execution_count": 7,
   "metadata": {},
   "outputs": [],
   "source": [
    "LOCAL_EXPERT_QUERIES_PROMPT = \"\"\" You are an expert local guide of . \\\n",
    "You are living there for almost 15 years \\\n",
    "Your goal is to generate max of 2 queries such that it will retrieve overview of what \\\n",
    "the city has to offer, including hidden gems, cultural hotspots, must-visit landmarks,\\\n",
    "\"\"\""
   ]
  },
  {
   "cell_type": "code",
   "execution_count": 25,
   "metadata": {},
   "outputs": [],
   "source": [
    "LOCAL_EXPERT_PROMPT = \"\"\" Your goal is to share the most insightful and interesting details about this place. \\\n",
    "Use the context given below of the {city} to find about its attractions and \\\n",
    "customs to provide valuable information that will enrich the travel experience for visitors.\\\n",
    "\n",
    "example output:- \n",
    "1) Time's Square :- This is a great place to walk around at the night times. etc\n",
    "......\n",
    "\"\"\""
   ]
  },
  {
   "cell_type": "code",
   "execution_count": 9,
   "metadata": {},
   "outputs": [],
   "source": [
    "def Local_expert_agent(state: AgentState):\n",
    "    queries = model.with_structured_output(Queries).invoke([\n",
    "        SystemMessage(content=LOCAL_EXPERT_QUERIES_PROMPT),\n",
    "        HumanMessage(content = state['Where_to']),\n",
    "    ])\n",
    "    context = \"\"\n",
    "    for q in queries.queries:\n",
    "        print(q)\n",
    "        response = tavily.search(query=q, max_results = 5, include_raw_content = True, include_domains = [\"expedia.com\"])\n",
    "        for result in response['results']:\n",
    "            context = \"\\n\\n \".join(result['raw_content'])\n",
    "    best_version = model.invoke([\n",
    "        SystemMessage(content=LOCAL_EXPERT_PROMPT.format(city = state['Where_to'])),\n",
    "        HumanMessage(content = context),\n",
    "    ]).content\n",
    "    return {\"Local_expert\": best_version}"
   ]
  },
  {
   "cell_type": "code",
   "execution_count": 10,
   "metadata": {},
   "outputs": [],
   "source": [
    "HOTEL_EXPERT_QUERIES_PROMPT = \"\"\" \n",
    "Generate single query to find the best hotels that fits the user preferences {user_preferences} in the {city} only. \\\n",
    "\"\"\""
   ]
  },
  {
   "cell_type": "code",
   "execution_count": 11,
   "metadata": {},
   "outputs": [],
   "source": [
    "HOTEL_EXPERT_PROMPT = \"\"\" Your goal is to share the best hotels that fit the user preference. \\\n",
    "Use the context given below of the hotels and choose few hotels that better fit the user preference \\\n",
    "Also also give a single sentence reasoning, why is that hotel better. \\\n",
    "\n",
    "Here is the user preference, {hotels}\n",
    "\n",
    "Include hotels in the {city}\n",
    "\n",
    "example output:- \n",
    "1) Marriot :- This is hotel is a 5 start hotel which is luxury and it is near to many of the famous attractions. \\\n",
    "Per night cost would be:- 200$ per room. and also give the hotel location.\n",
    "Important amenities:-\n",
    "1) pool\n",
    "2) spa .....etc\n",
    "......\n",
    "\"\"\""
   ]
  },
  {
   "cell_type": "code",
   "execution_count": 12,
   "metadata": {},
   "outputs": [],
   "source": [
    "def Hotel_expert_agent(state: AgentState):\n",
    "    queries = model.with_structured_output(Queries).invoke([\n",
    "        SystemMessage(content=HOTEL_EXPERT_QUERIES_PROMPT.format(city = state['Where_to'],\n",
    "        user_preferences = state['Hotel_details'])),\n",
    "        HumanMessage(content = \"\\n\\n\" + \"Here is my preferences to finding a hotel \"+ state['Hotel_details']),\n",
    "    ])\n",
    "    context = \"\"\n",
    "    for q in queries.queries:\n",
    "        print(q)\n",
    "        response = tavily.search(query=q, max_results = 5, include_raw_content = True, include_domains = [\"expedia.com\", \"booking.com\"])\n",
    "        for result in response['results']:\n",
    "            context = \"\\n\\n \".join(result['raw_content'])\n",
    "    best_version = model.invoke([\n",
    "        SystemMessage(content=HOTEL_EXPERT_PROMPT.format(hotels = context, city = state['Where_to'])),\n",
    "        HumanMessage(content=\"Pick the best hotels based on the preference: \" + state['Hotel_details']),\n",
    "    ]).content\n",
    "    return {\"Hotel_expert\": best_version}"
   ]
  },
  {
   "cell_type": "code",
   "execution_count": 13,
   "metadata": {},
   "outputs": [],
   "source": [
    "TRAVEL_EXPERT_PROMPT_QUERY = \"\"\" You are great at finding the best and cheapest travel \\\n",
    "Accommodations, based on the travel date {Departure_date} and return date {Return_date} \\\n",
    "from {Where_from} to {Where_to}. \n",
    "\n",
    "your goal is to find travel and not accommodation\n",
    "\n",
    "Generate 2 queries at max based on the trip details and also you goals is to find the best and cheapest prices.\\\n",
    "Stick with return trip mainly rather than one way ticket.\n",
    "\"\"\""
   ]
  },
  {
   "cell_type": "code",
   "execution_count": 14,
   "metadata": {},
   "outputs": [],
   "source": [
    "TRAVEL_EXPERT_PROMPT = \"\"\" \n",
    "Organise these Travel details In provided order below use you creativity to order the travel plans but do not change of the information\n",
    "provided below by the user. {User_preference}\n",
    "\n",
    "\n",
    "A list of the top 3-4 options.\n",
    "For each option, provide:\n",
    "Type Flight or Bus etc\n",
    "To and from\n",
    "URL_LINK:\n",
    "Any additional relevant details (baggage included, flight change policies, etc.)\n",
    "\"\"\""
   ]
  },
  {
   "cell_type": "code",
   "execution_count": 15,
   "metadata": {},
   "outputs": [],
   "source": [
    "def Travel_expert_agent(state: AgentState):\n",
    "    queries = model.with_structured_output(Queries).invoke([\n",
    "        SystemMessage(content=TRAVEL_EXPERT_PROMPT_QUERY.format(\n",
    "        Departure_date = state['Departure_date'], Return_date = state['Return_date'],\n",
    "        Where_from = state['Where_from'], Where_to = state['Where_to'])),\n",
    "        HumanMessage(content = \"\\n\\n\" + \"Here is my travel preferences \"+ state['Travel_preference']),\n",
    "    ])\n",
    "    url = \"https://api-ares.traversaal.ai/live/predict\"\n",
    "    for q in queries.queries:\n",
    "        payload = { \"query\": [q] }\n",
    "        headers = {\n",
    "            \"x-api-key\": os.environ.get(\"TRAVERSAL_AI_API_CURRENT\"),\n",
    "            \"content-type\": \"application/json\"\n",
    "        }\n",
    "        response = requests.post(url, json=payload, headers=headers)\n",
    "        # print(response)\n",
    "        string_data = response.content.decode('utf-8')\n",
    "\n",
    "        # Parse JSON string to a Python dictionary\n",
    "        json_data = json.loads(string_data)\n",
    "        context = \"\\n\\n \".join(json_data['data']['response_text'])\n",
    "        context = \"These are the URL for the flight details \".join(json_data['data']['web_url'])\n",
    "    # context = \"\"\n",
    "    # for q in queries.queries:\n",
    "    #     print(q)\n",
    "    #     response = tavily.search(query=q, max_results = 5, include_raw_content = True)\n",
    "    #     for result in response['results']:\n",
    "    #         context = \"\\n\\n \".join(result['raw_content'])\n",
    "    best_version = model.invoke([\n",
    "        SystemMessage(content=TRAVEL_EXPERT_PROMPT.format(User_preference = state['Travel_preference'])),\n",
    "        HumanMessage(content = context),\n",
    "    ]).content\n",
    "    return {\"Travel_expert\": best_version}"
   ]
  },
  {
   "cell_type": "code",
   "execution_count": 16,
   "metadata": {},
   "outputs": [],
   "source": [
    "TRAVEL_CONCIERGE_PROMPT = \"\"\"\n",
    "Expand this guide into a full travel\n",
    "itinerary for this time  with detailed per-day plans, including\n",
    "weather forecasts, places to eat, packing suggestions,\n",
    "and a budget breakdown.\n",
    "\n",
    "You MUST suggest actual places to visit, actual hotels\n",
    "to stay and actual restaurants to go to.\n",
    "\n",
    "This itinerary should cover all aspects of the trip,\n",
    "from arrival to departure, integrating the city guide\n",
    "information with practical travel logistics.\n",
    "\n",
    "Your final answer MUST be a complete expanded travel plan,\n",
    "formatted as markdown, encompassing a daily schedule,\n",
    "anticipated weather conditions, recommended clothing and\n",
    "items to pack, and a detailed budget, ensuring THE BEST\n",
    "TRIP EVER, Be specific and give it a reason why you picked\n",
    "# up each place, what make them special!\n",
    "\n",
    "Do not assume, anything.\n",
    "\n",
    "To calculate the duration the trip use the {departure_date} and {return_date}\n",
    "\n",
    "Below are all the details about the places , hotels, and transportation. Do not assume that the\\\n",
    "user is going to stay at a hotel or take this flight given them after the Iternary as additional infroamtion.\n",
    "\n",
    "Here are the local places and attractions {Local_expert}\n",
    "Here are the hotels {Hotel_expert}\n",
    "Here are some of the travel plans {Travel_expert}\n",
    "\n",
    "example:-\n",
    "\n",
    "Day 1: Arrival and Exploring the City\n",
    "Weather Forecast: High of 88°F, Low of 78°F. Partly cloudy with a chance of afternoon showers.\n",
    "\n",
    "Morning:\n",
    "Arrival from India to Miami via your selected flight option. (Travel Plan Option 1)\n",
    "Check-in at the Hampton Inn & Suites by Hilton Miami Brickell Downtown.\n",
    "Afternoon:\n",
    "\n",
    "Lunch at Versailles Restaurant in Little Havana, known for its authentic Cuban cuisine.\n",
    "Explore Little Havana, the heart of Miami's Cuban community, and immerse yourself in the vibrant culture. Visit the local cigar shops and art galleries.\n",
    "Evening:\n",
    "\n",
    "Enjoy a stroll around the Art Deco Historic District with its historic architecture from the 1920s and 1930s.\n",
    "Dinner at Joe's Stone Crab, a famous seafood restaurant in South Beach.\n",
    "Experience Miami's nightlife in South Beach. Visit The Clevelander Bar for a fun and vibrant experience.\n",
    "\n",
    "What to Pack: Swimwear, sunscreen, light clothing, comfortable walking shoes, a light rain jacket (just in case of showers), and a camera.\n",
    "\n",
    "\n",
    "The example of Day 1 should continue for rest of the days and what to pack depends upon that days sechdule and where\n",
    "we are going.\n",
    "\n",
    "Hotels:-\n",
    "1_ .....\n",
    "2) ....\n",
    "\n",
    "Transportation:-\n",
    "2) .....\n",
    "3) .....\n",
    "\n",
    "What to pack:-\n",
    "1) ......\n",
    "2) .....\n",
    "\n",
    "\"\"\""
   ]
  },
  {
   "cell_type": "code",
   "execution_count": 17,
   "metadata": {},
   "outputs": [],
   "source": [
    "def Travel_Concierge_agent(state: AgentState):\n",
    "    user_message = HumanMessage(\n",
    "        content = f\"\"\"The above are my travel plans from {state['Where_from']} to {state['Where_to']} Provide me\n",
    "        a Iternary.\"\"\"\n",
    "    )\n",
    "    system_message = SystemMessage(content=TRAVEL_CONCIERGE_PROMPT.format(departure_date = state['Departure_date'],\n",
    "    return_date = state['Return_date'],\n",
    "    Local_expert = state['Local_expert'],\n",
    "    Hotel_expert = state['Hotel_expert'], Travel_expert = state['Travel_expert']))\n",
    "    messages = [system_message, user_message]\n",
    "    response = model.invoke(messages)\n",
    "    return {\"FINAL_DRAFT\": response.content}"
   ]
  },
  {
   "cell_type": "code",
   "execution_count": 18,
   "metadata": {},
   "outputs": [],
   "source": [
    "builder = StateGraph(AgentState)"
   ]
  },
  {
   "cell_type": "code",
   "execution_count": 19,
   "metadata": {},
   "outputs": [],
   "source": [
    "builder.add_node(\"local_guide\", Local_expert_agent)\n",
    "builder.add_node(\"hotel_expert\", Hotel_expert_agent)\n",
    "builder.add_node(\"travel_expert\", Travel_expert_agent)\n",
    "builder.add_node(\"travel_concierge\", Travel_Concierge_agent)"
   ]
  },
  {
   "cell_type": "code",
   "execution_count": 20,
   "metadata": {},
   "outputs": [],
   "source": [
    "builder.set_entry_point(\"local_guide\")"
   ]
  },
  {
   "cell_type": "code",
   "execution_count": 21,
   "metadata": {},
   "outputs": [],
   "source": [
    "builder.add_edge(\"local_guide\", \"hotel_expert\")\n",
    "builder.add_edge(\"hotel_expert\", \"travel_expert\")\n",
    "builder.add_edge(\"travel_expert\", \"travel_concierge\")\n",
    "builder.add_edge(\"travel_concierge\", END)"
   ]
  },
  {
   "cell_type": "code",
   "execution_count": 22,
   "metadata": {},
   "outputs": [],
   "source": [
    "graph = builder.compile()"
   ]
  },
  {
   "cell_type": "code",
   "execution_count": 23,
   "metadata": {},
   "outputs": [
    {
     "name": "stdout",
     "output_type": "stream",
     "text": [
      "What are the must-visit landmarks and cultural hotspots in Miami?\n",
      "What are some hidden gems or unique experiences in Miami that a visitor should not miss?\n",
      "{'local_guide': {'Local_expert': '1) Art Deco Historic District: This architectural style, popular in the 1930s and 40s, dominates the trendy South Beach neighborhood. The area is home to about 800 preserved buildings showcasing Art Deco architecture.\\n\\n2) South Beach: Known for its beaches and the glamorous scene around its happening nightspots and celebrity-chef eateries. \\n\\n3) Ocean Drive: This iconic street is a must-visit, day or night. It\\'s the center of the Miami Art Deco District, which is home to about 800 preserved buildings.\\n\\n4) Bayside Marketplace: This large outdoor style mall with more than 150 specialty and tourist shops, numerous cafes and restaurants, and daily live entertainment, draws locals and tourists alike.\\n\\n5) Little Havana: The Cuban district of Miami, where you can find specialty food shops, galleries, and mom-and-pop cafes.\\n\\n6) Miami Seaquarium: A 38-acre oceanarium located on the island of Virginia Key in Biscayne Bay. It\\'s one of the oldest oceanariums in the United States and is home to dolphins, killer whales, and sea lions.\\n\\n7) Vizcaya Museum and Gardens: This National Historic Landmark, built in the early 20th century, features 34 rooms arranged around a central courtyard. It\\'s filled with European furniture and decorative arts from the 15th to 19th centuries.\\n\\n8) Everglades National Park: Just a short drive from downtown Miami, Everglades National Park spans 1.5 million acres and is a World Heritage Site, International Biosphere Reserve, and Wetland of International Importance.\\n\\n9) Miami Children\\'s Museum: This museum is all about hands-on fun. Interactive exhibits include a multi-level sandcastle of dreams, a 32-foot climbing wall, and a television studio.\\n\\n10) Zoo Miami: This zoo is home to more than 2,000 wild animals and features a \"zoo-within-a-zoo\" of large, open-air exhibits. \\n\\n11) Miami\\'s beaches: Miami\\'s coastline is dotted with lovely beaches, including the famous South Beach, Haulover Beach, and Sunny Isles Beach.\\n\\n12) The nightlife: Miami is famous for its vibrant nightlife, with many bars, nightclubs, and live music venues. The South Beach neighborhood is particularly known for its after-dark entertainment.\\n\\n13) Cuban culture: Miami is known for its rich Cuban culture, especially in the Little Havana neighborhood. Visitors can enjoy Cuban cuisine, music, and festivals.\\n\\n14) Outdoor activities: Miami\\'s warm climate makes it a great place for outdoor activities. Visitors can enjoy water sports like surfing and jet skiing, or land activities like golfing and tennis.\\n\\n15) Art scene: Miami has a thriving art scene, with many galleries and art museums. The city also hosts the annual Art Basel Miami Beach, one of the biggest art shows in the world.\\n\\n16) Shopping: Miami is a shopper\\'s paradise, with luxury boutiques in the Design District, large shopping malls like the Dolphin Mall and Aventura Mall, and unique shops in neighborhoods like Coconut Grove and Little Havana.\\n\\n17) Dining: Miami\\'s dining scene is diverse and delicious, with a mix of high-end restaurants, casual eateries, and food trucks. The city is particularly known for its seafood and Cuban cuisine.\\n\\n18) Sports: Miami is home to several professional sports teams, including the Miami Dolphins (NFL), Miami Heat (NBA), and Miami Marlins (MLB). The city also hosts the annual Miami Open tennis tournament.\\n\\n19) Festivals: Miami hosts several major festivals throughout the year, including the Miami International Film Festival, Ultra Music Festival, and Calle Ocho Festival.\\n\\n20) Architecture: Miami\\'s architecture is a mix of modern skyscrapers, historic Art Deco buildings, and Mediterranean Revival-style homes. The city\\'s skyline is one of the most recognizable in the world.'}}\n",
      "Find good but not too fancy hotels in safe areas in Miami\n",
      "{'hotel_expert': {'Hotel_expert': \"1) Hampton Inn & Suites by Hilton Miami Brickell Downtown: This hotel is located in a safe neighborhood and offers comfortable, mid-range accommodations. Per night cost would be around $150 per room. It's located at 50 SW 12th St, Miami, FL 33130. Important amenities include a pool, fitness center, and free WiFi.\\n\\n2) Courtyard by Marriott Miami Downtown: This hotel is in a secure area and provides a balance of comfort and affordability. The cost per night is approximately $130 per room. It's located at 200 SE 2nd Ave, Miami, FL 33131. Important amenities include a pool, fitness center, and a restaurant.\\n\\n3) Hilton Garden Inn Miami Brickell South: This hotel is situated in a safe part of Miami and offers good value for money. The cost per night is around $140 per room. It's located at 2500 Brickell Ave, Miami, FL 33129. Important amenities include a pool, fitness center, and free WiFi.\"}}\n",
      "{'travel_expert': {'Travel_expert': \"**Travel Plan Options**\\n\\n**Option 1:**\\n- Type: Flight\\n- To and From: India to Miami\\n- URL Link: [Momondo](https://www.momondo.com/flights/india/miami)\\n- Additional Details: Please check the website for baggage and flight change policies.\\n\\n**Option 2:**\\n- Type: Flight\\n- To and From: India to Miami\\n- URL Link: [Kayak](https://www.kayak.com/flight-routes/India-IN0/Miami-MIA)\\n- Additional Details: Please check the website for baggage and flight change policies.\\n\\n**Option 3:**\\n- Type: Flight\\n- To and From: Anywhere to Anywhere\\n- URL Link: [American Airlines](https://www.aa.com/en-us/flights)\\n- Additional Details: Please check the website for baggage and flight change policies.\\n\\n**Option 4:**\\n- Type: Flight\\n- To and From: Anywhere to Miami\\n- URL Link: [Cheapflights](https://www.cheapflights.com/flights-to-india/miami/)\\n- Additional Details: Please check the website for baggage and flight change policies. \\n\\nPlease note that the details provided are subject to change and it's always best to check the respective websites for the most accurate and up-to-date information.\"}}\n",
      "{'travel_concierge': {'FINAL_DRAFT': \"# Miami Travel Itinerary\\n\\n## Day 1: Arrival and Exploring the City\\n**Weather Forecast:** High of 88°F, Low of 78°F. Partly cloudy with a chance of afternoon showers.\\n\\n**Morning:**\\n- Arrival from India to Miami via your selected flight option. (Travel Plan Option 1)\\n- Check-in at the Hampton Inn & Suites by Hilton Miami Brickell Downtown.\\n\\n**Afternoon:**\\n- Lunch at Versailles Restaurant in Little Havana, known for its authentic Cuban cuisine.\\n- Explore Little Havana, the heart of Miami's Cuban community, and immerse yourself in the vibrant culture. Visit the local cigar shops and art galleries.\\n\\n**Evening:**\\n- Enjoy a stroll around the Art Deco Historic District with its historic architecture from the 1920s and 1930s.\\n- Dinner at Joe's Stone Crab, a famous seafood restaurant in South Beach.\\n- Experience Miami's nightlife in South Beach. Visit The Clevelander Bar for a fun and vibrant experience.\\n\\n**What to Pack:** Swimwear, sunscreen, light clothing, comfortable walking shoes, a light rain jacket (just in case of showers), and a camera.\\n\\n## Day 2: Exploring Miami's Beaches and Shopping\\n**Weather Forecast:** High of 89°F, Low of 79°F. Mostly sunny with a slight chance of afternoon showers.\\n\\n**Morning:**\\n- Start the day with a relaxing morning at South Beach.\\n- Breakfast at News Cafe, a popular spot on Ocean Drive.\\n\\n**Afternoon:**\\n- Visit the Bayside Marketplace for shopping and lunch. Try the seafood at Bubba Gump Shrimp Co.\\n- Continue shopping or take a sightseeing cruise from the marketplace.\\n\\n**Evening:**\\n- Dinner at CVI.CHE 105, a popular Peruvian restaurant in downtown Miami.\\n- Visit Miami's famous nightlife scene in the Wynwood neighborhood. Check out the Wynwood Walls and the numerous bars and clubs in the area.\\n\\n**What to Pack:** Swimwear, sunscreen, beach towel, comfortable shoes, casual outfit for the evening, and a camera.\\n\\n## Day 3: Exploring Miami's Museums and Gardens\\n**Weather Forecast:** High of 88°F, Low of 78°F. Partly cloudy with a chance of afternoon showers.\\n\\n**Morning:**\\n- Visit the Vizcaya Museum and Gardens.\\n- Lunch at the museum's cafe.\\n\\n**Afternoon:**\\n- Visit the Miami Seaquarium.\\n- Explore the Miami Children's Museum.\\n\\n**Evening:**\\n- Dinner at The Capital Grille in Brickell.\\n- Relax at the hotel or explore the local nightlife.\\n\\n**What to Pack:** Comfortable shoes, light clothing, rain jacket (just in case of showers), and a camera.\\n\\n## Day 4: Exploring Miami's Wildlife and Nature\\n**Weather Forecast:** High of 89°F, Low of 79°F. Mostly sunny with a slight chance of afternoon showers.\\n\\n**Morning:**\\n- Visit Zoo Miami.\\n- Lunch at the zoo's cafe.\\n\\n**Afternoon:**\\n- Drive to Everglades National Park and take an airboat tour.\\n\\n**Evening:**\\n- Dinner at Shula's Steak House in Miami Lakes.\\n- Relax at the hotel or explore the local nightlife.\\n\\n**What to Pack:** Comfortable shoes, light clothing, hat, sunscreen, insect repellent, and a camera.\\n\\n## Day 5: Departure\\n**Weather Forecast:** High of 88°F, Low of 78°F. Partly cloudy with a chance of afternoon showers.\\n\\n**Morning:**\\n- Check-out from the Hampton Inn & Suites by Hilton Miami Brickell Downtown.\\n- Departure to India via your selected flight option. (Travel Plan Option 1)\\n\\n**What to Pack:** All your belongings and souvenirs.\\n\\n**Hotels:**\\n- Hampton Inn & Suites by Hilton Miami Brickell Downtown: $150 per night x 4 nights = $600\\n\\n**Transportation:**\\n- Flight from India to Miami and back: Prices vary, please check the selected flight option for the most accurate price.\\n- Local transportation (taxis, public transportation): Approximately $200\\n\\n**Food:**\\n- Estimated cost of meals: $50 per day x 5 days = $250\\n\\n**Admission Fees:**\\n- Vizcaya Museum and Gardens: $22 per person\\n- Miami Seaquarium: $47.99 per person\\n- Miami Children's Museum: $22 per person\\n- Zoo Miami: $22.95 per person\\n- Everglades National Park airboat tour: Approximately $30 per person\\n\\n**Total Estimated Cost:** Flight cost + $600 (hotel) + $200 (transportation) + $250 (food) + $144.94 (admission fees)\\n\\nPlease note that prices are subject to change and it's always best to check the respective websites for the most accurate and up-to-date information.\"}}\n"
     ]
    }
   ],
   "source": [
    "\n",
    "for s in graph.stream({\n",
    "    \"Where_from\": \"India\",\n",
    "    \"Where_to\" : \"Miami\",\n",
    "    \"Hotel_details\": \"I would prefer staying in good hotels, but not too fancy and the area around the hotels must be safe\",\n",
    "    \"Departure_date\": \"july 16th 2024\",\n",
    "    \"Return_date\": \"july 220th 2024\",\n",
    "    \"Travel_preference\": \"Flight.\"\n",
    "}):\n",
    "    print(s)"
   ]
  },
  {
   "cell_type": "code",
   "execution_count": 27,
   "metadata": {},
   "outputs": [
    {
     "name": "stdout",
     "output_type": "stream",
     "text": [
      "What are the must-visit landmarks in Miami?\n",
      "What are some hidden gems and cultural hotspots in Miami?\n",
      "Find mid-range, safe hotels in Miami\n"
     ]
    }
   ],
   "source": [
    "s = graph.invoke({\"Where_from\": \"India\",\n",
    "    \"Where_to\" : \"Miami\",\n",
    "    \"Hotel_details\": \"I would prefer staying in good hotels, but not too fancy and the area around the hotels must be safe\",\n",
    "    \"Departure_date\": \"july 16th 2024\",\n",
    "    \"Return_date\": \"july 220th 2024\",\n",
    "    \"Travel_preference\": \"Flight.\"})"
   ]
  },
  {
   "cell_type": "code",
   "execution_count": null,
   "metadata": {},
   "outputs": [
    {
     "name": "stdout",
     "output_type": "stream",
     "text": [
      "# Miami Travel Itinerary\n",
      "\n",
      "## Day 1: Arrival and Exploring the City\n",
      "**Weather Forecast:** High of 88°F, Low of 78°F. Partly cloudy with a chance of afternoon showers.\n",
      "\n",
      "**Morning:**\n",
      "- Arrival from India to Miami via your selected flight option. (Travel Plan Option 1)\n",
      "- Check-in at the Hampton Inn & Suites by Hilton Miami Brickell Downtown.\n",
      "\n",
      "**Afternoon:**\n",
      "- Lunch at Versailles Restaurant in Little Havana, known for its authentic Cuban cuisine.\n",
      "- Explore Little Havana, the heart of Miami's Cuban community, and immerse yourself in the vibrant culture. Visit the local cigar shops and art galleries.\n",
      "\n",
      "**Evening:**\n",
      "- Enjoy a stroll around the Art Deco Historic District with its historic architecture from the 1920s and 1930s.\n",
      "- Dinner at Joe's Stone Crab, a famous seafood restaurant in South Beach.\n",
      "- Experience Miami's nightlife in South Beach. Visit The Clevelander Bar for a fun and vibrant experience.\n",
      "\n",
      "**What to Pack:** Swimwear, sunscreen, light clothing, comfortable walking shoes, a light rain jacket (just in case of showers), and a camera.\n",
      "\n",
      "## Day 2: Exploring Miami's Beaches and Shopping\n",
      "**Weather Forecast:** High of 89°F, Low of 79°F. Mostly sunny with a slight chance of afternoon showers.\n",
      "\n",
      "**Morning:**\n",
      "- Start the day with a relaxing morning at South Beach.\n",
      "- Breakfast at News Cafe, a popular spot on Ocean Drive.\n",
      "\n",
      "**Afternoon:**\n",
      "- Visit the Bayside Marketplace for shopping and lunch. Try the seafood at Bubba Gump Shrimp Co.\n",
      "- Continue shopping or take a sightseeing cruise from the marketplace.\n",
      "\n",
      "**Evening:**\n",
      "- Dinner at CVI.CHE 105, a popular Peruvian restaurant in downtown Miami.\n",
      "- Visit Miami's famous nightlife scene in the Wynwood neighborhood. Check out the Wynwood Walls and the numerous bars and clubs in the area.\n",
      "\n",
      "**What to Pack:** Swimwear, sunscreen, beach towel, comfortable shoes, casual outfit for the evening, and a camera.\n",
      "\n",
      "## Day 3: Exploring Miami's Museums and Gardens\n",
      "**Weather Forecast:** High of 88°F, Low of 78°F. Partly cloudy with a chance of afternoon showers.\n",
      "\n",
      "**Morning:**\n",
      "- Visit the Vizcaya Museum and Gardens.\n",
      "- Lunch at the museum's cafe.\n",
      "\n",
      "**Afternoon:**\n",
      "- Visit the Miami Seaquarium.\n",
      "- Explore the Miami Children's Museum.\n",
      "\n",
      "**Evening:**\n",
      "- Dinner at The Capital Grille in Brickell.\n",
      "- Relax at the hotel or explore the local nightlife.\n",
      "\n",
      "**What to Pack:** Comfortable shoes, light clothing, rain jacket (just in case of showers), and a camera.\n",
      "\n",
      "## Day 4: Exploring Miami's Wildlife and Nature\n",
      "**Weather Forecast:** High of 89°F, Low of 79°F. Mostly sunny with a slight chance of afternoon showers.\n",
      "\n",
      "**Morning:**\n",
      "- Visit Zoo Miami.\n",
      "- Lunch at the zoo's cafe.\n",
      "\n",
      "**Afternoon:**\n",
      "- Drive to Everglades National Park and take an airboat tour.\n",
      "\n",
      "**Evening:**\n",
      "- Dinner at Shula's Steak House in Miami Lakes.\n",
      "- Relax at the hotel or explore the local nightlife.\n",
      "\n",
      "**What to Pack:** Comfortable shoes, light clothing, hat, sunscreen, insect repellent, and a camera.\n",
      "\n",
      "## Day 5: Departure\n",
      "**Weather Forecast:** High of 88°F, Low of 78°F. Partly cloudy with a chance of afternoon showers.\n",
      "\n",
      "**Morning:**\n",
      "- Check-out from the Hampton Inn & Suites by Hilton Miami Brickell Downtown.\n",
      "- Departure to India via your selected flight option. (Travel Plan Option 1)\n",
      "\n",
      "**What to Pack:** All your belongings and souvenirs.\n",
      "\n",
      "**Hotels:**\n",
      "- Hampton Inn & Suites by Hilton Miami Brickell Downtown: $150 per night x 4 nights = $600\n",
      "\n",
      "**Transportation:**\n",
      "- Flight from India to Miami and back: Prices vary, please check the selected flight option for the most accurate price.\n",
      "- Local transportation (taxis, public transportation): Approximately $200\n",
      "\n",
      "**Food:**\n",
      "- Estimated cost of meals: $50 per day x 5 days = $250\n",
      "\n",
      "**Admission Fees:**\n",
      "- Vizcaya Museum and Gardens: $22 per person\n",
      "- Miami Seaquarium: $47.99 per person\n",
      "- Miami Children's Museum: $22 per person\n",
      "- Zoo Miami: $22.95 per person\n",
      "- Everglades National Park airboat tour: Approximately $30 per person\n",
      "\n",
      "**Total Estimated Cost:** Flight cost + $600 (hotel) + $200 (transportation) + $250 (food) + $144.94 (admission fees)\n",
      "\n",
      "Please note that prices are subject to change and it's always best to check the respective websites for the most accurate and up-to-date information.\n"
     ]
    }
   ],
   "source": [
    "print(s)"
   ]
  },
  {
   "cell_type": "code",
   "execution_count": null,
   "metadata": {},
   "outputs": [],
   "source": []
  }
 ],
 "metadata": {
  "kernelspec": {
   "display_name": "base",
   "language": "python",
   "name": "python3"
  },
  "language_info": {
   "codemirror_mode": {
    "name": "ipython",
    "version": 3
   },
   "file_extension": ".py",
   "mimetype": "text/x-python",
   "name": "python",
   "nbconvert_exporter": "python",
   "pygments_lexer": "ipython3",
   "version": "3.12.0"
  }
 },
 "nbformat": 4,
 "nbformat_minor": 2
}

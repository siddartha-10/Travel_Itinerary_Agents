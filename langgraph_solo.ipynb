{
 "cells": [
  {
   "cell_type": "code",
   "execution_count": 1,
   "metadata": {},
   "outputs": [
    {
     "data": {
      "text/plain": [
       "True"
      ]
     },
     "execution_count": 1,
     "metadata": {},
     "output_type": "execute_result"
    }
   ],
   "source": [
    "from dotenv import load_dotenv\n",
    "import os\n",
    "load_dotenv()"
   ]
  },
  {
   "cell_type": "code",
   "execution_count": 2,
   "metadata": {},
   "outputs": [],
   "source": [
    "from langgraph.graph import StateGraph, END, START\n",
    "from typing import Annotated, TypedDict, List\n",
    "from langchain_openai import AzureChatOpenAI\n",
    "from langchain_core.messages import HumanMessage, SystemMessage, ToolMessage, AnyMessage\n",
    "import requests\n",
    "import json"
   ]
  },
  {
   "cell_type": "code",
   "execution_count": 3,
   "metadata": {},
   "outputs": [],
   "source": [
    "model = AzureChatOpenAI(openai_api_version=os.environ.get(\"AZURE_OPENAI_VERSION\", \"2023-07-01-preview\"),\n",
    "    azure_deployment=os.environ.get(\"AZURE_OPENAI_DEPLOYMENT\", \"gpt4chat\"),\n",
    "    azure_endpoint=os.environ.get(\"AZURE_OPENAI_ENDPOINT\", \"https://gpt-4-trails.openai.azure.com/\"),\n",
    "    api_key=os.environ.get(\"AZURE_OPENAI_KEY\"))"
   ]
  },
  {
   "cell_type": "code",
   "execution_count": 4,
   "metadata": {},
   "outputs": [],
   "source": [
    "from tavily import TavilyClient\n",
    "tavily = TavilyClient(api_key=os.environ.get(\"TAVILY_API_KEY\"))"
   ]
  },
  {
   "cell_type": "code",
   "execution_count": 5,
   "metadata": {},
   "outputs": [],
   "source": [
    "from langchain_core.pydantic_v1 import BaseModel\n",
    "\n",
    "class Queries(BaseModel):\n",
    "    queries: List[str]"
   ]
  },
  {
   "cell_type": "markdown",
   "metadata": {},
   "source": [
    "#### Agents\n",
    "\n",
    "1) city_selection_agent :- As a City Selection Expert, your task is to analyze various travel data and choose the best city for the user, considering the current weather, season, and cost factors. Your expertise in evaluating these criteria will ensure that the selected destination offers the most favorable conditions and value for travelers.\n",
    "2) local_expert :- As a Local Expert in this city, your task is to offer the best insights about the selected city. Use your extensive knowledge about its attractions and customs to provide valuable and detailed information that will enhance the travel experience for visitors.\n",
    "3) travel_concierge :- As an Amazing Travel Concierge, your task is to leverage your decades of experience in travel planning to create outstanding travel itineraries. These should include detailed budget plans and packing suggestions tailored to the chosen city, ensuring a seamless and enjoyable travel experience for the user.\n",
    "\n",
    "\n",
    "\n",
    "\t1.\tCity Selection Expert: Imagine you’re a travel enthusiast with a knack for picking the perfect destinations. Your mission is to sift through travel data and pinpoint the best city for our users, considering the current weather, season, and budget. Your skill in evaluating these factors will help ensure that travelers enjoy the best conditions and value during their trips.\n",
    "\t2.\tLocal Expert: Picture yourself as a local guide with a deep love for your city. Your goal is to share the most insightful and interesting details about this place. Use your extensive knowledge about its attractions and customs to provide valuable information that will enrich the travel experience for visitors.\n",
    "\t3.\tTravel Concierge: Think of yourself as a seasoned travel planner with years of experience crafting perfect trips. Your task is to create amazing travel itineraries, complete with detailed budget plans and packing tips tailored to the chosen city. Your expertise will ensure a smooth and enjoyable journey for our users."
   ]
  },
  {
   "cell_type": "code",
   "execution_count": 6,
   "metadata": {},
   "outputs": [],
   "source": [
    "class AgentState(TypedDict):\n",
    "    Where_from: str\n",
    "    Where_to: str\n",
    "    Local_expert: str\n",
    "    Hotel_details: str\n",
    "    Hotel_expert: str\n",
    "    Departure_date: str\n",
    "    Return_date: str\n",
    "    Travel_preference: str # This maybe by car, flight etc\n",
    "    Travel_expert: str"
   ]
  },
  {
   "cell_type": "code",
   "execution_count": 7,
   "metadata": {},
   "outputs": [],
   "source": [
    "LOCAL_EXPERT_QUERIES_PROMPT = \"\"\" You are an expert local guide of . \\\n",
    "You are living there for almost 15years \\\n",
    "Your goal is to generate two queries such that it will retrieve overview of what \\\n",
    "the city has to offer, including hidden gems, cultural hotspots, must-visit landmarks,\\\n",
    "\"\"\""
   ]
  },
  {
   "cell_type": "code",
   "execution_count": 8,
   "metadata": {},
   "outputs": [],
   "source": [
    "LOCAL_EXPERT_PROMPT = \"\"\" Your goal is to share the most insightful and interesting details about this place. \\\n",
    "Use the context given below of the {city} to find about its attractions and \\\n",
    "customs to provide valuable information that will enrich the travel experience for visitors.\\\n",
    "\n",
    "\n",
    "\n",
    "example output:- \n",
    "1) Time's Square :- This is a great place to walk around at the night times. etc\n",
    "......\n",
    "\"\"\""
   ]
  },
  {
   "cell_type": "code",
   "execution_count": 9,
   "metadata": {},
   "outputs": [],
   "source": [
    "def Local_expert_agent(state: AgentState):\n",
    "    queries = model.with_structured_output(Queries).invoke([\n",
    "        SystemMessage(content=LOCAL_EXPERT_QUERIES_PROMPT),\n",
    "        HumanMessage(content = state['Where_to']),\n",
    "    ])\n",
    "    context = \"\"\n",
    "    for q in queries.queries:\n",
    "        print(q)\n",
    "        response = tavily.search(query=q, max_results = 5, include_raw_content = True, include_domains = [\"expedia.com\"])\n",
    "        for result in response['results']:\n",
    "            context = \"\\n\\n \".join(result['raw_content'])\n",
    "    best_version = model.invoke([\n",
    "        SystemMessage(content=LOCAL_EXPERT_PROMPT.format(city = state['Where_to'])),\n",
    "        HumanMessage(content = context),\n",
    "    ]).content\n",
    "    return {\"Local_expert\": best_version}"
   ]
  },
  {
   "cell_type": "code",
   "execution_count": 10,
   "metadata": {},
   "outputs": [],
   "source": [
    "HOTEL_EXPERT_QUERIES_PROMPT = \"\"\" You are great at finding hotels at a particular {city} that user would like to visit \\\n",
    "Based on the user Hotel Preferences.\n",
    "check_in date {Departure_date} and check out date {Return_date} \\\n",
    "Generate a query to find the best hotel that fits the user preferences. \\\n",
    "\"\"\""
   ]
  },
  {
   "cell_type": "code",
   "execution_count": 11,
   "metadata": {},
   "outputs": [],
   "source": [
    "HOTEL_EXPERT_PROMPT = \"\"\" Your goal is to share the best hotels that fit the user preference. \\\n",
    "Use the context given below of the hotels and choose few hotels that better fit the user preference \\\n",
    "Also also give a single sentence reasoning, why is that hotel better. \\\n",
    "\n",
    "Here is the user preference, {hotels}\n",
    "\n",
    "example output:- \n",
    "1) Marriot :- This is hotel is a 5 start hotel which is luxury and it is near to many of the famous attractions. \\\n",
    "Per night cost would be:- 200$ per room. and also give the hotel location.\n",
    "Important amenities:-\n",
    "1) pool\n",
    "2) spa .....etc\n",
    "......\n",
    "\"\"\""
   ]
  },
  {
   "cell_type": "code",
   "execution_count": 12,
   "metadata": {},
   "outputs": [],
   "source": [
    "def Hotel_expert_agent(state: AgentState):\n",
    "    queries = model.with_structured_output(Queries).invoke([\n",
    "        SystemMessage(content=HOTEL_EXPERT_QUERIES_PROMPT.format(city = state['Where_to'], \n",
    "        Departure_date = state['Departure_date'], Return_date = state['Return_date'])),\n",
    "        HumanMessage(content = \"\\n\\n\" + \"Here is my preferences to finding a hotel \"+ state['Hotel_details']),\n",
    "    ])\n",
    "    context = \"\"\n",
    "    for q in queries.queries:\n",
    "        print(q)\n",
    "        response = tavily.search(query=q, max_results = 5, include_raw_content = True, include_domains = [\"expedia.com\", \"booking.com\"])\n",
    "        for result in response['results']:\n",
    "            context = \"\\n\\n \".join(result['raw_content'])\n",
    "    best_version = model.invoke([\n",
    "        SystemMessage(content=HOTEL_EXPERT_PROMPT.format(hotels = state['Hotel_details'])),\n",
    "        HumanMessage(content = context),\n",
    "    ]).content\n",
    "    return {\"Hotel_expert\": best_version}"
   ]
  },
  {
   "cell_type": "code",
   "execution_count": 13,
   "metadata": {},
   "outputs": [],
   "source": [
    "TRAVEL_EXPERT_PROMPT_QUERY = \"\"\" You are great at finding the best and cheapest travel \\\n",
    "Accommodations, based on the travel date {Departure_date} and return date {Return_date} \\\n",
    "from {Where_from} to {Where_to}. \n",
    "\n",
    "your goal is to find travel and not accommodation\n",
    "\n",
    "Generate 2-3 queries at max based on the trip details and also you goals is to find the best and cheapest prices.\n",
    "\"\"\""
   ]
  },
  {
   "cell_type": "code",
   "execution_count": 14,
   "metadata": {},
   "outputs": [],
   "source": [
    "TRAVEL_EXPERT_PROMPT = \"\"\" \n",
    "Organise these Travel details In provided order below use you creativity to order the travel plans but do not change of the information\n",
    "provided below by the user. {User_preference}\n",
    "\n",
    "A list of the top 3-5 flight options.\n",
    "For each flight, provide:\n",
    "Departure and arrival times\n",
    "Duration of the flight\n",
    "Number of stopovers (if any)\n",
    "Airline\n",
    "Any additional relevant details (baggage included, flight change policies, etc.)\n",
    "\"\"\""
   ]
  },
  {
   "cell_type": "code",
   "execution_count": 15,
   "metadata": {},
   "outputs": [],
   "source": [
    "def Travel_expert_agent(state: AgentState):\n",
    "    queries = model.with_structured_output(Queries).invoke([\n",
    "        SystemMessage(content=TRAVEL_EXPERT_PROMPT_QUERY.format(\n",
    "        Departure_date = state['Departure_date'], Return_date = state['Return_date'],\n",
    "        Where_from = state['Where_from'], Where_to = state['Where_to'])),\n",
    "        HumanMessage(content = \"\\n\\n\" + \"Here is my travel preferences \"+ state['Travel_preference']),\n",
    "    ])\n",
    "    context = \"\"\n",
    "\n",
    "    url = \"https://api-ares.traversaal.ai/live/predict\"\n",
    "    for q in queries.queries:\n",
    "        payload = { \"query\": [q] }\n",
    "        headers = {\n",
    "            \"x-api-key\": os.environ.get(\"TRAVERSAL_AI_API_CURRENT\"),\n",
    "            \"content-type\": \"application/json\"\n",
    "        }\n",
    "        response = requests.post(url, json=payload, headers=headers)\n",
    "        # print(response)\n",
    "        string_data = response.content.decode('utf-8')\n",
    "\n",
    "        # Parse JSON string to a Python dictionary\n",
    "        json_data = json.loads(string_data)\n",
    "        context = \"\\n\\n \".join(json_data['data']['response_text'])\n",
    "    best_version = model.invoke([\n",
    "        SystemMessage(content=TRAVEL_EXPERT_PROMPT.format(User_preference = state['Travel_preference'])),\n",
    "        HumanMessage(content = context),\n",
    "    ]).content\n",
    "    return {\"Travel_expert\": best_version}"
   ]
  },
  {
   "cell_type": "code",
   "execution_count": 16,
   "metadata": {},
   "outputs": [],
   "source": [
    "builder = StateGraph(AgentState)"
   ]
  },
  {
   "cell_type": "code",
   "execution_count": 17,
   "metadata": {},
   "outputs": [],
   "source": [
    "# builder.add_node(\"local_guide\", Local_expert_agent)\n",
    "# builder.add_node(\"hotel_expert\", Hotel_expert_agent)\n",
    "builder.add_node(\"travel_expert\", Travel_expert_agent)"
   ]
  },
  {
   "cell_type": "code",
   "execution_count": 18,
   "metadata": {},
   "outputs": [],
   "source": [
    "builder.set_entry_point(\"travel_expert\")"
   ]
  },
  {
   "cell_type": "code",
   "execution_count": 19,
   "metadata": {},
   "outputs": [],
   "source": [
    "builder.add_edge(\"travel_expert\", END)"
   ]
  },
  {
   "cell_type": "code",
   "execution_count": 20,
   "metadata": {},
   "outputs": [],
   "source": [
    "graph = builder.compile()"
   ]
  },
  {
   "cell_type": "code",
   "execution_count": 21,
   "metadata": {},
   "outputs": [],
   "source": [
    "\n",
    "for s in graph.stream({\n",
    "    \"Where_from\": \"Atlanta\",\n",
    "    \"Where_to\" : \"Miami\",\n",
    "    \"Hotel_details\": \"I would prefer staying in good hotels, but not too fancy and the area around the hotels must be safe\",\n",
    "    \"Departure_date\": \"july 16th 2024\",\n",
    "    \"Return_date\": \"july 20th 2024\",\n",
    "    \"Travel_preference\": \"Any but should be the cheapest.\"\n",
    "}):\n",
    "    print(s)"
   ]
  },
  {
   "cell_type": "code",
   "execution_count": null,
   "metadata": {},
   "outputs": [
    {
     "name": "stdout",
     "output_type": "stream",
     "text": [
      "**Travel Itinerary: Miami (MIA) to Atlanta (ATL)**\n",
      "\n",
      "**Flight Option 1:**\n",
      "1. Departure Time: To be confirmed\n",
      "2. Arrival Time: To be confirmed\n",
      "3. Duration: To be confirmed\n",
      "4. Stopovers: Direct flight\n",
      "5. Airline: To be confirmed\n",
      "6. Additional Details: Prices were available within the past 7 days and start at $27 for one-way flights and $50 for round trip, subject to change. Baggage included.\n",
      "\n",
      "**Flight Option 2:**\n",
      "1. Departure Time: To be confirmed\n",
      "2. Arrival Time: To be confirmed\n",
      "3. Duration: To be confirmed\n",
      "4. Stopovers: Direct flight\n",
      "5. Airline: To be confirmed\n",
      "6. Additional Details: Option to purchase one-way tickets with different airlines, starting at $27.\n",
      "\n",
      "**Flight Option 3:**\n",
      "1. Departure Time: To be confirmed\n",
      "2. Arrival Time: To be confirmed\n",
      "3. Duration: To be confirmed\n",
      "4. Stopovers: Direct flight\n",
      "5. Airline: To be confirmed\n",
      "6. Additional Details: Refund available for the difference in price if the flight is available for a cheaper price, terms apply.\n",
      "\n",
      "Please note: Exploring Atlanta not only provides an opportunity to make some magical memories, indulge in delectable dishes, and tour the local landmarks, but the cheap airfare also ensures that you won’t go beyond your budget. Whether your ideal itinerary involves flying one way, non-stop, or round trip, you’re bound to find flights that match your schedule on Expedia, and at prices that won’t shock your wallet. \n",
      "\n",
      "Remember, with Expedia, the wonders of Atlanta are only a plane trip away. Book your travel arrangements with us today! If you have any questions, please don't hesitate to ask.\n"
     ]
    }
   ],
   "source": [
    "print(s['travel_expert']['Travel_expert'])"
   ]
  }
 ],
 "metadata": {
  "kernelspec": {
   "display_name": "base",
   "language": "python",
   "name": "python3"
  },
  "language_info": {
   "codemirror_mode": {
    "name": "ipython",
    "version": 3
   },
   "file_extension": ".py",
   "mimetype": "text/x-python",
   "name": "python",
   "nbconvert_exporter": "python",
   "pygments_lexer": "ipython3",
   "version": "3.12.0"
  }
 },
 "nbformat": 4,
 "nbformat_minor": 2
}

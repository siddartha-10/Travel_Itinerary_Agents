{
 "cells": [
  {
   "cell_type": "code",
   "execution_count": 1,
   "metadata": {},
   "outputs": [
    {
     "data": {
      "text/plain": [
       "True"
      ]
     },
     "execution_count": 1,
     "metadata": {},
     "output_type": "execute_result"
    }
   ],
   "source": [
    "from dotenv import load_dotenv\n",
    "import os\n",
    "load_dotenv()"
   ]
  },
  {
   "cell_type": "code",
   "execution_count": 2,
   "metadata": {},
   "outputs": [],
   "source": [
    "from langgraph.graph import StateGraph, END, START\n",
    "from typing import Annotated, TypedDict, List\n",
    "from langchain_openai import AzureChatOpenAI\n",
    "from langchain_core.messages import HumanMessage, SystemMessage, ToolMessage, AnyMessage"
   ]
  },
  {
   "cell_type": "code",
   "execution_count": 3,
   "metadata": {},
   "outputs": [],
   "source": [
    "model = AzureChatOpenAI(openai_api_version=os.environ.get(\"AZURE_OPENAI_VERSION\", \"2023-07-01-preview\"),\n",
    "    azure_deployment=os.environ.get(\"AZURE_OPENAI_DEPLOYMENT\", \"gpt4chat\"),\n",
    "    azure_endpoint=os.environ.get(\"AZURE_OPENAI_ENDPOINT\", \"https://gpt-4-trails.openai.azure.com/\"),\n",
    "    api_key=os.environ.get(\"AZURE_OPENAI_KEY\"))"
   ]
  },
  {
   "cell_type": "code",
   "execution_count": 4,
   "metadata": {},
   "outputs": [],
   "source": [
    "from tavily import TavilyClient\n",
    "tavily = TavilyClient(api_key=os.environ.get(\"TAVILY_API_KEY\"))"
   ]
  },
  {
   "cell_type": "code",
   "execution_count": 5,
   "metadata": {},
   "outputs": [],
   "source": [
    "from langchain_core.pydantic_v1 import BaseModel\n",
    "\n",
    "class Queries(BaseModel):\n",
    "    queries: List[str]"
   ]
  },
  {
   "cell_type": "markdown",
   "metadata": {},
   "source": [
    "#### Agents\n",
    "\n",
    "1) city_selection_agent :- As a City Selection Expert, your task is to analyze various travel data and choose the best city for the user, considering the current weather, season, and cost factors. Your expertise in evaluating these criteria will ensure that the selected destination offers the most favorable conditions and value for travelers.\n",
    "2) local_expert :- As a Local Expert in this city, your task is to offer the best insights about the selected city. Use your extensive knowledge about its attractions and customs to provide valuable and detailed information that will enhance the travel experience for visitors.\n",
    "3) travel_concierge :- As an Amazing Travel Concierge, your task is to leverage your decades of experience in travel planning to create outstanding travel itineraries. These should include detailed budget plans and packing suggestions tailored to the chosen city, ensuring a seamless and enjoyable travel experience for the user.\n",
    "\n",
    "\n",
    "\n",
    "\t1.\tCity Selection Expert: Imagine you’re a travel enthusiast with a knack for picking the perfect destinations. Your mission is to sift through travel data and pinpoint the best city for our users, considering the current weather, season, and budget. Your skill in evaluating these factors will help ensure that travelers enjoy the best conditions and value during their trips.\n",
    "\t2.\tLocal Expert: Picture yourself as a local guide with a deep love for your city. Your goal is to share the most insightful and interesting details about this place. Use your extensive knowledge about its attractions and customs to provide valuable information that will enrich the travel experience for visitors.\n",
    "\t3.\tTravel Concierge: Think of yourself as a seasoned travel planner with years of experience crafting perfect trips. Your task is to create amazing travel itineraries, complete with detailed budget plans and packing tips tailored to the chosen city. Your expertise will ensure a smooth and enjoyable journey for our users."
   ]
  },
  {
   "cell_type": "code",
   "execution_count": 6,
   "metadata": {},
   "outputs": [],
   "source": [
    "class AgentState(TypedDict):\n",
    "    Where_from: str\n",
    "    Where_to: str\n",
    "    Local_expert: str\n",
    "    Hotel_details: str\n",
    "    Hotel_expert: str\n",
    "    Departure_date: str\n",
    "    Return_date: str\n",
    "    Travel_preference: str # This maybe by car, flight etc\n",
    "    Travel_details: str"
   ]
  },
  {
   "cell_type": "code",
   "execution_count": 7,
   "metadata": {},
   "outputs": [],
   "source": [
    "LOCAL_EXPERT_QUERIES_PROMPT = \"\"\" You are an expert local guide of . \\\n",
    "You are living there for almost 15years \\\n",
    "Your goal is to generate two queries such that it will retrieve overview of what \\\n",
    "the city has to offer, including hidden gems, cultural hotspots, must-visit landmarks,\\\n",
    "\"\"\""
   ]
  },
  {
   "cell_type": "code",
   "execution_count": 8,
   "metadata": {},
   "outputs": [],
   "source": [
    "LOCAL_EXPERT_PROMPT = \"\"\" Your goal is to share the most insightful and interesting details about this place. \\\n",
    "Use the context given below of the {city} to find about its attractions and \\\n",
    "customs to provide valuable information that will enrich the travel experience for visitors.\\\n",
    "\n",
    "\n",
    "\n",
    "example output:- \n",
    "1) Time's Square :- This is a great place to walk around at the night times. etc\n",
    "......\n",
    "\"\"\""
   ]
  },
  {
   "cell_type": "code",
   "execution_count": 9,
   "metadata": {},
   "outputs": [],
   "source": [
    "def Local_expert_agent(state: AgentState):\n",
    "    queries = model.with_structured_output(Queries).invoke([\n",
    "        SystemMessage(content=LOCAL_EXPERT_QUERIES_PROMPT),\n",
    "        HumanMessage(content = state['Where_to']),\n",
    "    ])\n",
    "    context = \"\"\n",
    "    for q in queries.queries:\n",
    "        print(q)\n",
    "        response = tavily.search(query=q, max_results = 5, include_raw_content = True, include_domains = [\"expedia.com\"])\n",
    "        for result in response['results']:\n",
    "            context = \"\\n\\n \".join(result['raw_content'])\n",
    "    best_version = model.invoke([\n",
    "        SystemMessage(content=LOCAL_EXPERT_PROMPT.format(city = state['Where_to'])),\n",
    "        HumanMessage(content = context),\n",
    "    ]).content\n",
    "    return {\"Local_expert\": best_version}"
   ]
  },
  {
   "cell_type": "code",
   "execution_count": 30,
   "metadata": {},
   "outputs": [],
   "source": [
    "HOTEL_EXPERT_QUERIES_PROMPT = \"\"\" You are great at finding hotels at a particular {city} that user would like to visit \\\n",
    "Based on the user Hotel Preferences.\n",
    "check_in date {Departure_date} and check out date {Return_date} \\\n",
    "Generate a query to find the best hotel that fits the user preferences. \\\n",
    "\"\"\""
   ]
  },
  {
   "cell_type": "code",
   "execution_count": 31,
   "metadata": {},
   "outputs": [],
   "source": [
    "HOTEL_EXPERT_PROMPT = \"\"\" Your goal is to share the best hotels that fit the user preference. \\\n",
    "Use the context given below of the hotels and choose few hotels that better fit the user preference \\\n",
    "Also also give a single sentence reasoning, why is that hotel better. \\\n",
    "\n",
    "Here is the user preference, {hotels}\n",
    "\n",
    "example output:- \n",
    "1) Marriot :- This is hotel is a 5 start hotel which is luxury and it is near to many of the famous attractions. \\\n",
    "Per night cost would be:- 200$ per room. and also give the hotel location.\n",
    "Important amenities:-\n",
    "1) pool\n",
    "2) spa .....etc\n",
    "......\n",
    "\"\"\""
   ]
  },
  {
   "cell_type": "code",
   "execution_count": 12,
   "metadata": {},
   "outputs": [],
   "source": [
    "def Hotel_expert_agent(state: AgentState):\n",
    "    queries = model.with_structured_output(Queries).invoke([\n",
    "        SystemMessage(content=HOTEL_EXPERT_QUERIES_PROMPT.format(city: state['Where_to'], \n",
    "        Departure_date: state['Departure_date'], Return_date: state['Return_date'])),\n",
    "        HumanMessage(content = \"\\n\\n\" + \"Here is my preferences to finding a hotel \"+ state['Hotel_details']),\n",
    "    ])\n",
    "    context = \"\"\n",
    "    for q in queries.queries:\n",
    "        print(q)\n",
    "        response = tavily.search(query=q, max_results = 5, include_raw_content = True, include_domains = [\"expedia.com\", \"booking.com\"])\n",
    "        for result in response['results']:\n",
    "            context = \"\\n\\n \".join(result['raw_content'])\n",
    "    best_version = model.invoke([\n",
    "        SystemMessage(content=HOTEL_EXPERT_PROMPT.format(hotels = state['Hotel_details'])),\n",
    "        HumanMessage(content = context),\n",
    "    ]).content\n",
    "    return {\"Hotel_expert\": best_version}"
   ]
  },
  {
   "cell_type": "code",
   "execution_count": 13,
   "metadata": {},
   "outputs": [],
   "source": [
    "TRAVEL_EXPERT_PROMPT_QUERY = \"\"\" You are great at finding the best and cheapest travel \\\n",
    "Accommodations, based on the travel date {Departure_date} and return date {Return_date} \\\n",
    "from {Where_from} to {Where_to}. \n",
    "\n",
    "Generate some queries based on the trip details and also you goals is to find the best and cheapest prices.\n",
    "\"\"\""
   ]
  },
  {
   "cell_type": "code",
   "execution_count": 32,
   "metadata": {},
   "outputs": [],
   "source": [
    "TRAVEL_EXPERT_PROMPT = \"\"\" \n",
    "Organise these Travel details In provided order below use you creativity to order the travel plans but do not change of the information\n",
    "provided below by the user.\n",
    "\n",
    "A list of the top 3-5 flight options.\n",
    "For each flight, provide:\n",
    "Departure and arrival times\n",
    "Duration of the flight\n",
    "Number of stopovers (if any)\n",
    "Airline\n",
    "Any additional relevant details (baggage included, flight change policies, etc.)\n",
    "\"\"\""
   ]
  },
  {
   "cell_type": "code",
   "execution_count": 33,
   "metadata": {},
   "outputs": [],
   "source": [
    "def Travel_expert_agent(state: AgentState):\n",
    "    queries = model.with_structured_output(Queries).invoke([\n",
    "        SystemMessage(content=TRAVEL_EXPERT_PROMPT_QUERY.format(Departure_date = state[\"Departure_date\"], \n",
    "        Return_date =  state['Return_date'], Where_from = state[\"Where_from\"], Where_to = state['Where_to'])),\n",
    "        HumanMessage(content = \"\\n\\n\" + \"Here is my preferences to Travel to the destination \"+ state[\"Travel_preference\"]),\n",
    "    ])\n",
    "    context = \"\"\n",
    "    for q in queries.queries:\n",
    "        print(q)\n",
    "        response = tavily.search(query=q, max_results = 5, include_raw_content = True)\n",
    "        for result in response['results']:\n",
    "            context = \"\\n\\n \".join(result['raw_content'])\n",
    "    best_version = model.invoke([\n",
    "        SystemMessage(content=TRAVEL_EXPERT_PROMPT),\n",
    "        HumanMessage(content = context),\n",
    "    ]).content\n",
    "    return {\"flight_details\": best_version}"
   ]
  },
  {
   "cell_type": "code",
   "execution_count": 23,
   "metadata": {},
   "outputs": [],
   "source": [
    "builder = StateGraph(AgentState)"
   ]
  },
  {
   "cell_type": "code",
   "execution_count": 24,
   "metadata": {},
   "outputs": [],
   "source": [
    "builder.add_node(\"local_guide\", Local_expert_agent)\n",
    "builder.add_node(\"hotel_expert\", Hotel_expert_agent)\n",
    "builder.add_node(\"travel_expert\", Travel_expert_agent)"
   ]
  },
  {
   "cell_type": "code",
   "execution_count": 25,
   "metadata": {},
   "outputs": [],
   "source": [
    "builder.set_entry_point(\"local_guide\")"
   ]
  },
  {
   "cell_type": "code",
   "execution_count": 26,
   "metadata": {},
   "outputs": [],
   "source": [
    "builder.add_edge(\"local_guide\", \"hotel_expert\")\n",
    "builder.add_edge(\"hotel_expert\", \"travel_expert\")\n",
    "builder.add_edge(\"travel_expert\", END)"
   ]
  },
  {
   "cell_type": "code",
   "execution_count": 27,
   "metadata": {},
   "outputs": [],
   "source": [
    "graph = builder.compile()"
   ]
  },
  {
   "cell_type": "code",
   "execution_count": 28,
   "metadata": {},
   "outputs": [
    {
     "name": "stdout",
     "output_type": "stream",
     "text": [
      "What are the must-visit landmarks in Miami?\n",
      "What are some hidden gems and cultural hotspots in Miami?\n",
      "{'local_guide': {'Local_expert': \"1) Little Havana: This vibrant neighborhood transports you to Cuba's capital with its street-side cafes, colorful murals, and Latin music. Here, you can experience the Cuban lifestyle by exploring local tastes, sounds, colors, and vibes. \\n\\n2) Calle Ocho: This is the most vibrant part of Little Havana. Walking down this street, you can immerse yourself in Cuban culture, from the music wafting from record shops to the art displayed in galleries.\\n\\n3) Versailles Restaurant: The most famous Cuban restaurant in Miami, Versailles is a great place to start your day in Little Havana. Here, you can try traditional Cuban cuisine and get a taste of the local culture.\\n\\n4) Bay of Pigs Museum: This museum offers an in-depth look into the history that led to Little Havana becoming a home away from home for thousands of Cubans. \\n\\n5) Domino Park: Watching local residents play dominoes at this park is a quintessential Little Havana experience. \\n\\n6) Ball & Chain: At the end of your day, relax at this iconic music venue and enjoy some salsa or jazz tunes. With a mojito in hand, you'll feel a little bit Cuban, at least for the day. \\n\\n7) Local Food & Drinks: Don't miss out on trying Cuban coffee at La Colada Gourmet, enjoying sugarcane juice and traditional pastries, and savoring unusual ice-cream flavors. These treats, combined with local stories, will help you feel more connected to the spirit of Calle Ocho.\"}}\n",
      "Find medium-priced hotels in safe neighborhoods\n",
      "Show hotels with good reviews but not too fancy\n",
      "List hotels with high security in safe areas\n",
      "Search for well-rated mid-range hotels in secure locations\n",
      "{'hotel_expert': {'Hotel_expert': \"1) Hampton Inn & Suites: This hotel is not overly fancy but provides excellent service and is located in a safe neighborhood. Per night cost would be: $120 per room.\\nImportant amenities: \\n1) Free Wi-Fi\\n2) Fitness Center\\n3) Pool\\n\\n2) Holiday Inn Express: Known for its clean spaces and friendly staff, this hotel is located in a safe area and offers reasonable prices. Per night cost would be: $100 per room.\\nImportant amenities: \\n1) Free Breakfast\\n2) Fitness Center\\n3) Business Center\\n\\n3) Courtyard by Marriott: While it belongs to a well-known chain, it's not overly fancy, offering comfortable rooms in a safe location. Per night cost would be: $130 per room.\\nImportant amenities: \\n1) Free Wi-Fi\\n2) Fitness Center\\n3) Restaurant on-site.\"}}\n",
      "Find the cheapest flights from Atlanta to Miami on July 16th 2024\n",
      "Find the cheapest return flights from Miami to Atlanta on July 20th 2024\n",
      "Find budget accommodations in Miami from July 16th 2024 to July 20th 2024\n",
      "Find the cheapest car rental services in Miami from July 16th 2024 to July 20th 2024\n",
      "Find affordable tourist packages for Miami from July 16th 2024 to July 20th 2024\n",
      "Find discounted hotel rooms in Miami from July 16th 2024 to July 20th 2024\n"
     ]
    },
    {
     "ename": "KeyError",
     "evalue": "'flight_details'",
     "output_type": "error",
     "traceback": [
      "\u001b[0;31m---------------------------------------------------------------------------\u001b[0m",
      "\u001b[0;31mKeyError\u001b[0m                                  Traceback (most recent call last)",
      "Cell \u001b[0;32mIn[28], line 1\u001b[0m\n\u001b[0;32m----> 1\u001b[0m \u001b[38;5;28;01mfor\u001b[39;00m s \u001b[38;5;129;01min\u001b[39;00m graph\u001b[38;5;241m.\u001b[39mstream({\n\u001b[1;32m      2\u001b[0m     \u001b[38;5;124m\"\u001b[39m\u001b[38;5;124mWhere_from\u001b[39m\u001b[38;5;124m\"\u001b[39m: \u001b[38;5;124m\"\u001b[39m\u001b[38;5;124mAtlanta\u001b[39m\u001b[38;5;124m\"\u001b[39m,\n\u001b[1;32m      3\u001b[0m     \u001b[38;5;124m\"\u001b[39m\u001b[38;5;124mWhere_to\u001b[39m\u001b[38;5;124m\"\u001b[39m : \u001b[38;5;124m\"\u001b[39m\u001b[38;5;124mMiami\u001b[39m\u001b[38;5;124m\"\u001b[39m,\n\u001b[1;32m      4\u001b[0m     \u001b[38;5;124m\"\u001b[39m\u001b[38;5;124mHotel_details\u001b[39m\u001b[38;5;124m\"\u001b[39m: \u001b[38;5;124m\"\u001b[39m\u001b[38;5;124mI would prefer staying in good hotels, but not too fancy and the area around the hotels must be safe\u001b[39m\u001b[38;5;124m\"\u001b[39m,\n\u001b[1;32m      5\u001b[0m     \u001b[38;5;124m\"\u001b[39m\u001b[38;5;124mDeparture_date\u001b[39m\u001b[38;5;124m\"\u001b[39m: \u001b[38;5;124m\"\u001b[39m\u001b[38;5;124mjuly 16th 2024\u001b[39m\u001b[38;5;124m\"\u001b[39m,\n\u001b[1;32m      6\u001b[0m     \u001b[38;5;124m\"\u001b[39m\u001b[38;5;124mReturn_date\u001b[39m\u001b[38;5;124m\"\u001b[39m: \u001b[38;5;124m\"\u001b[39m\u001b[38;5;124mjuly 20th 2024\u001b[39m\u001b[38;5;124m\"\u001b[39m,\n\u001b[1;32m      7\u001b[0m     \u001b[38;5;124m\"\u001b[39m\u001b[38;5;124mTravel_preference\u001b[39m\u001b[38;5;124m\"\u001b[39m: \u001b[38;5;124m\"\u001b[39m\u001b[38;5;124mAny but should be the cheapest.\u001b[39m\u001b[38;5;124m\"\u001b[39m\n\u001b[1;32m      8\u001b[0m }):\n\u001b[1;32m      9\u001b[0m     \u001b[38;5;28mprint\u001b[39m(s)\n",
      "File \u001b[0;32m~/miniforge3/lib/python3.12/site-packages/langgraph/pregel/__init__.py:1110\u001b[0m, in \u001b[0;36mPregel.stream\u001b[0;34m(self, input, config, stream_mode, output_keys, input_keys, interrupt_before, interrupt_after, debug)\u001b[0m\n\u001b[1;32m   1107\u001b[0m         \u001b[38;5;28;01mdel\u001b[39;00m fut, task\n\u001b[1;32m   1109\u001b[0m \u001b[38;5;66;03m# panic on failure or timeout\u001b[39;00m\n\u001b[0;32m-> 1110\u001b[0m _panic_or_proceed(done, inflight, step)\n\u001b[1;32m   1111\u001b[0m \u001b[38;5;66;03m# don't keep futures around in memory longer than needed\u001b[39;00m\n\u001b[1;32m   1112\u001b[0m \u001b[38;5;28;01mdel\u001b[39;00m done, inflight, futures\n",
      "File \u001b[0;32m~/miniforge3/lib/python3.12/site-packages/langgraph/pregel/__init__.py:1713\u001b[0m, in \u001b[0;36m_panic_or_proceed\u001b[0;34m(done, inflight, step)\u001b[0m\n\u001b[1;32m   1711\u001b[0m             inflight\u001b[38;5;241m.\u001b[39mpop()\u001b[38;5;241m.\u001b[39mcancel()\n\u001b[1;32m   1712\u001b[0m         \u001b[38;5;66;03m# raise the exception\u001b[39;00m\n\u001b[0;32m-> 1713\u001b[0m         \u001b[38;5;28;01mraise\u001b[39;00m exc\n\u001b[1;32m   1715\u001b[0m \u001b[38;5;28;01mif\u001b[39;00m inflight:\n\u001b[1;32m   1716\u001b[0m     \u001b[38;5;66;03m# if we got here means we timed out\u001b[39;00m\n\u001b[1;32m   1717\u001b[0m     \u001b[38;5;28;01mwhile\u001b[39;00m inflight:\n\u001b[1;32m   1718\u001b[0m         \u001b[38;5;66;03m# cancel all pending tasks\u001b[39;00m\n",
      "File \u001b[0;32m~/miniforge3/lib/python3.12/concurrent/futures/thread.py:58\u001b[0m, in \u001b[0;36m_WorkItem.run\u001b[0;34m(self)\u001b[0m\n\u001b[1;32m     55\u001b[0m     \u001b[38;5;28;01mreturn\u001b[39;00m\n\u001b[1;32m     57\u001b[0m \u001b[38;5;28;01mtry\u001b[39;00m:\n\u001b[0;32m---> 58\u001b[0m     result \u001b[38;5;241m=\u001b[39m \u001b[38;5;28mself\u001b[39m\u001b[38;5;241m.\u001b[39mfn(\u001b[38;5;241m*\u001b[39m\u001b[38;5;28mself\u001b[39m\u001b[38;5;241m.\u001b[39margs, \u001b[38;5;241m*\u001b[39m\u001b[38;5;241m*\u001b[39m\u001b[38;5;28mself\u001b[39m\u001b[38;5;241m.\u001b[39mkwargs)\n\u001b[1;32m     59\u001b[0m \u001b[38;5;28;01mexcept\u001b[39;00m \u001b[38;5;167;01mBaseException\u001b[39;00m \u001b[38;5;28;01mas\u001b[39;00m exc:\n\u001b[1;32m     60\u001b[0m     \u001b[38;5;28mself\u001b[39m\u001b[38;5;241m.\u001b[39mfuture\u001b[38;5;241m.\u001b[39mset_exception(exc)\n",
      "File \u001b[0;32m~/miniforge3/lib/python3.12/site-packages/langgraph/pregel/retry.py:72\u001b[0m, in \u001b[0;36mrun_with_retry\u001b[0;34m(task, retry_policy)\u001b[0m\n\u001b[1;32m     70\u001b[0m task\u001b[38;5;241m.\u001b[39mwrites\u001b[38;5;241m.\u001b[39mclear()\n\u001b[1;32m     71\u001b[0m \u001b[38;5;66;03m# run the task\u001b[39;00m\n\u001b[0;32m---> 72\u001b[0m task\u001b[38;5;241m.\u001b[39mproc\u001b[38;5;241m.\u001b[39minvoke(task\u001b[38;5;241m.\u001b[39minput, task\u001b[38;5;241m.\u001b[39mconfig)\n\u001b[1;32m     73\u001b[0m \u001b[38;5;66;03m# if successful, end\u001b[39;00m\n\u001b[1;32m     74\u001b[0m \u001b[38;5;28;01mbreak\u001b[39;00m\n",
      "File \u001b[0;32m~/miniforge3/lib/python3.12/site-packages/langchain_core/runnables/base.py:2497\u001b[0m, in \u001b[0;36mRunnableSequence.invoke\u001b[0;34m(self, input, config, **kwargs)\u001b[0m\n\u001b[1;32m   2493\u001b[0m config \u001b[38;5;241m=\u001b[39m patch_config(\n\u001b[1;32m   2494\u001b[0m     config, callbacks\u001b[38;5;241m=\u001b[39mrun_manager\u001b[38;5;241m.\u001b[39mget_child(\u001b[38;5;124mf\u001b[39m\u001b[38;5;124m\"\u001b[39m\u001b[38;5;124mseq:step:\u001b[39m\u001b[38;5;132;01m{\u001b[39;00mi\u001b[38;5;241m+\u001b[39m\u001b[38;5;241m1\u001b[39m\u001b[38;5;132;01m}\u001b[39;00m\u001b[38;5;124m\"\u001b[39m)\n\u001b[1;32m   2495\u001b[0m )\n\u001b[1;32m   2496\u001b[0m \u001b[38;5;28;01mif\u001b[39;00m i \u001b[38;5;241m==\u001b[39m \u001b[38;5;241m0\u001b[39m:\n\u001b[0;32m-> 2497\u001b[0m     \u001b[38;5;28minput\u001b[39m \u001b[38;5;241m=\u001b[39m step\u001b[38;5;241m.\u001b[39minvoke(\u001b[38;5;28minput\u001b[39m, config, \u001b[38;5;241m*\u001b[39m\u001b[38;5;241m*\u001b[39mkwargs)\n\u001b[1;32m   2498\u001b[0m \u001b[38;5;28;01melse\u001b[39;00m:\n\u001b[1;32m   2499\u001b[0m     \u001b[38;5;28minput\u001b[39m \u001b[38;5;241m=\u001b[39m step\u001b[38;5;241m.\u001b[39minvoke(\u001b[38;5;28minput\u001b[39m, config)\n",
      "File \u001b[0;32m~/miniforge3/lib/python3.12/site-packages/langgraph/utils.py:103\u001b[0m, in \u001b[0;36mRunnableCallable.invoke\u001b[0;34m(self, input, config, **kwargs)\u001b[0m\n\u001b[1;32m    101\u001b[0m     \u001b[38;5;28;01mif\u001b[39;00m accepts_config(\u001b[38;5;28mself\u001b[39m\u001b[38;5;241m.\u001b[39mfunc):\n\u001b[1;32m    102\u001b[0m         kwargs[\u001b[38;5;124m\"\u001b[39m\u001b[38;5;124mconfig\u001b[39m\u001b[38;5;124m\"\u001b[39m] \u001b[38;5;241m=\u001b[39m config\n\u001b[0;32m--> 103\u001b[0m     ret \u001b[38;5;241m=\u001b[39m context\u001b[38;5;241m.\u001b[39mrun(\u001b[38;5;28mself\u001b[39m\u001b[38;5;241m.\u001b[39mfunc, \u001b[38;5;28minput\u001b[39m, \u001b[38;5;241m*\u001b[39m\u001b[38;5;241m*\u001b[39mkwargs)\n\u001b[1;32m    104\u001b[0m \u001b[38;5;28;01mif\u001b[39;00m \u001b[38;5;28misinstance\u001b[39m(ret, Runnable) \u001b[38;5;129;01mand\u001b[39;00m \u001b[38;5;28mself\u001b[39m\u001b[38;5;241m.\u001b[39mrecurse:\n\u001b[1;32m    105\u001b[0m     \u001b[38;5;28;01mreturn\u001b[39;00m ret\u001b[38;5;241m.\u001b[39minvoke(\u001b[38;5;28minput\u001b[39m, config)\n",
      "Cell \u001b[0;32mIn[22], line 14\u001b[0m, in \u001b[0;36mTravel_expert_agent\u001b[0;34m(state)\u001b[0m\n\u001b[1;32m     11\u001b[0m     \u001b[38;5;28;01mfor\u001b[39;00m result \u001b[38;5;129;01min\u001b[39;00m response[\u001b[38;5;124m'\u001b[39m\u001b[38;5;124mresults\u001b[39m\u001b[38;5;124m'\u001b[39m]:\n\u001b[1;32m     12\u001b[0m         context \u001b[38;5;241m=\u001b[39m \u001b[38;5;124m\"\u001b[39m\u001b[38;5;130;01m\\n\u001b[39;00m\u001b[38;5;130;01m\\n\u001b[39;00m\u001b[38;5;124m \u001b[39m\u001b[38;5;124m\"\u001b[39m\u001b[38;5;241m.\u001b[39mjoin(result[\u001b[38;5;124m'\u001b[39m\u001b[38;5;124mraw_content\u001b[39m\u001b[38;5;124m'\u001b[39m])\n\u001b[1;32m     13\u001b[0m best_version \u001b[38;5;241m=\u001b[39m model\u001b[38;5;241m.\u001b[39minvoke([\n\u001b[0;32m---> 14\u001b[0m     SystemMessage(content\u001b[38;5;241m=\u001b[39mTRAVEL_EXPERT_PROMPT\u001b[38;5;241m.\u001b[39mformat(hotels \u001b[38;5;241m=\u001b[39m state[\u001b[38;5;124m'\u001b[39m\u001b[38;5;124mHotel_details\u001b[39m\u001b[38;5;124m'\u001b[39m])),\n\u001b[1;32m     15\u001b[0m     HumanMessage(content \u001b[38;5;241m=\u001b[39m context),\n\u001b[1;32m     16\u001b[0m ])\u001b[38;5;241m.\u001b[39mcontent\n\u001b[1;32m     17\u001b[0m \u001b[38;5;28;01mreturn\u001b[39;00m {\u001b[38;5;124m\"\u001b[39m\u001b[38;5;124mTravel_details\u001b[39m\u001b[38;5;124m\"\u001b[39m: best_version}\n",
      "\u001b[0;31mKeyError\u001b[0m: 'flight_details'"
     ]
    }
   ],
   "source": [
    "\n",
    "for s in graph.stream({\n",
    "    \"Where_from\": \"Atlanta\",\n",
    "    \"Where_to\" : \"Miami\",\n",
    "    \"Hotel_details\": \"I would prefer staying in good hotels, but not too fancy and the area around the hotels must be safe\",\n",
    "    \"Departure_date\": \"july 16th 2024\",\n",
    "    \"Return_date\": \"july 20th 2024\",\n",
    "    \"Travel_preference\": \"Any but should be the cheapest.\"\n",
    "}):\n",
    "    print(s)"
   ]
  },
  {
   "cell_type": "code",
   "execution_count": null,
   "metadata": {},
   "outputs": [
    {
     "name": "stdout",
     "output_type": "stream",
     "text": [
      "1) Hampton Inn & Suites: This hotel is a comfortable and budget-friendly option located in a safe neighborhood. The per night cost would be around $120 per room.\n",
      "Important amenities: \n",
      "1) Free Wi-Fi \n",
      "2) Gym\n",
      "3) Laundry service\n",
      "\n",
      "2) Courtyard by Marriott: This is a 3-star hotel that offers a balance between luxury and affordability, and it's located in a secure area. The per night cost would be around $150 per room.\n",
      "Important amenities: \n",
      "1) Fitness center\n",
      "2) Restaurant \n",
      "3) Business center\n",
      "\n",
      "3) Hilton Garden Inn: This hotel provides a comfortable stay without being overly luxurious, and is situated in a safe locality. The per night cost would be around $130 per room.\n",
      "Important amenities: \n",
      "1) Indoor pool\n",
      "2) Free parking\n",
      "3) On-site restaurant.\n"
     ]
    }
   ],
   "source": [
    "print(s['hotel_expert']['Hotel_expert'])"
   ]
  },
  {
   "cell_type": "code",
   "execution_count": null,
   "metadata": {},
   "outputs": [],
   "source": []
  }
 ],
 "metadata": {
  "kernelspec": {
   "display_name": "base",
   "language": "python",
   "name": "python3"
  },
  "language_info": {
   "codemirror_mode": {
    "name": "ipython",
    "version": 3
   },
   "file_extension": ".py",
   "mimetype": "text/x-python",
   "name": "python",
   "nbconvert_exporter": "python",
   "pygments_lexer": "ipython3",
   "version": "3.12.0"
  }
 },
 "nbformat": 4,
 "nbformat_minor": 2
}
